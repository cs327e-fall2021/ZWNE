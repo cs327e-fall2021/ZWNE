{
 "cells": [
  {
   "cell_type": "markdown",
   "metadata": {},
   "source": [
    "### 1. Download Shopify dataset and create table script:"
   ]
  },
  {
   "cell_type": "code",
   "execution_count": 11,
   "metadata": {},
   "outputs": [
    {
     "name": "stdout",
     "output_type": "stream",
     "text": [
      "Copying gs://cs327e-open-access/spanner_shopify.zip...\n",
      "/ [1 files][  3.5 MiB/  3.5 MiB]                                                \n",
      "Operation completed over 1 objects/3.5 MiB.                                      \n"
     ]
    }
   ],
   "source": [
    "!gsutil cp gs://cs327e-open-access/spanner_shopify.zip /home/jupyter/snippets"
   ]
  },
  {
   "cell_type": "code",
   "execution_count": 12,
   "metadata": {},
   "outputs": [
    {
     "name": "stdout",
     "output_type": "stream",
     "text": [
      "Archive:  /home/jupyter/snippets/spanner_shopify.zip\n",
      "   creating: spanner_shopify/\n",
      "  inflating: spanner_shopify/pricing_plan_features.csv  \n",
      "  inflating: spanner_shopify/apps_categories.csv  \n",
      "  inflating: spanner_shopify/key_benefits.csv  \n",
      "  inflating: spanner_shopify/reviews.csv  \n",
      "  inflating: spanner_shopify/create_tables.sql  \n",
      "   creating: spanner_shopify/.ipynb_checkpoints/\n",
      "  inflating: spanner_shopify/.ipynb_checkpoints/pricing_plan_features-checkpoint.csv  \n",
      "  inflating: spanner_shopify/.ipynb_checkpoints/create_tables-checkpoint.sql  \n",
      "  inflating: spanner_shopify/categories.csv  \n",
      "  inflating: spanner_shopify/apps.csv  \n",
      "  inflating: spanner_shopify/pricing_plans.csv  \n"
     ]
    }
   ],
   "source": [
    "!unzip /home/jupyter/snippets/spanner_shopify.zip"
   ]
  },
  {
   "cell_type": "markdown",
   "metadata": {},
   "source": [
    "### 2. Configure Spanner CLI and create Shopify Database"
   ]
  },
  {
   "cell_type": "code",
   "execution_count": 1,
   "metadata": {},
   "outputs": [
    {
     "name": "stdout",
     "output_type": "stream",
     "text": [
      "env: CLI=/home/jupyter/spanner-cli-0.9.9/spanner-cli\n",
      "env: SPAN_PROJECT=platinum-analog-324601\n",
      "env: SPAN_INSTANCE=span\n",
      "env: SPAN_DATABASE=span\n"
     ]
    }
   ],
   "source": [
    "%env CLI=/home/jupyter/spanner-cli-0.9.9/spanner-cli\n",
    "%env SPAN_PROJECT=platinum-analog-324601\n",
    "%env SPAN_INSTANCE=span\n",
    "%env SPAN_DATABASE=span"
   ]
  },
  {
   "cell_type": "code",
   "execution_count": 2,
   "metadata": {},
   "outputs": [],
   "source": [
    "!$CLI -p $SPAN_PROJECT -i $SPAN_INSTANCE -d $SPAN_DATABASE -e \"show tables\""
   ]
  },
  {
   "cell_type": "code",
   "execution_count": 3,
   "metadata": {},
   "outputs": [],
   "source": [
    "CLI_CONNECT=\"$CLI -p $SPAN_PROJECT -i $SPAN_INSTANCE -d $SPAN_DATABASE\""
   ]
  },
  {
   "cell_type": "code",
   "execution_count": 4,
   "metadata": {},
   "outputs": [],
   "source": [
    "!{CLI_CONNECT} -e \"create database shopify\""
   ]
  },
  {
   "cell_type": "code",
   "execution_count": 5,
   "metadata": {},
   "outputs": [
    {
     "name": "stdout",
     "output_type": "stream",
     "text": [
      "env: SPAN_DATABASE=shopify\n"
     ]
    }
   ],
   "source": [
    "%env SPAN_DATABASE=shopify"
   ]
  },
  {
   "cell_type": "code",
   "execution_count": 6,
   "metadata": {},
   "outputs": [],
   "source": [
    "!$CLI -p $SPAN_PROJECT -i $SPAN_INSTANCE -d $SPAN_DATABASE -e \"show tables\""
   ]
  },
  {
   "cell_type": "code",
   "execution_count": 7,
   "metadata": {},
   "outputs": [],
   "source": [
    "!{CLI_CONNECT} -f /home/jupyter/snippets/spanner_shopify/create_tables.sql"
   ]
  },
  {
   "cell_type": "code",
   "execution_count": 8,
   "metadata": {},
   "outputs": [
    {
     "name": "stdout",
     "output_type": "stream",
     "text": [
      "Tables_in_shopify\n",
      "apps\n",
      "apps_categories\n",
      "categories\n",
      "key_benefits\n",
      "pricing_plan_features\n",
      "pricing_plans\n",
      "reviews\n"
     ]
    }
   ],
   "source": [
    "!{CLI_CONNECT} -e \"show tables\""
   ]
  },
  {
   "cell_type": "code",
   "execution_count": 9,
   "metadata": {},
   "outputs": [
    {
     "name": "stdout",
     "output_type": "stream",
     "text": [
      "Table\tCreate Table\n",
      "key_benefits\tCREATE TABLE key_benefits (\n",
      "  app_id STRING(50),\n",
      "  title STRING(2000),\n",
      "  description STRING(MAX),\n",
      ") PRIMARY KEY(app_id, title)\n"
     ]
    }
   ],
   "source": [
    "!{CLI_CONNECT} -e \"show create table key_benefits\""
   ]
  },
  {
   "cell_type": "code",
   "execution_count": 10,
   "metadata": {},
   "outputs": [
    {
     "name": "stdout",
     "output_type": "stream",
     "text": [
      "Table\tCreate Table\n",
      "apps\tCREATE TABLE apps (\n",
      "  id STRING(50),\n",
      "  url STRING(1000),\n",
      "  title STRING(2000),\n",
      "  developer STRING(100),\n",
      "  developer_link STRING(1000),\n",
      "  icon STRING(1000),\n",
      "  rating FLOAT64,\n",
      "  reviews_count INT64,\n",
      ") PRIMARY KEY(id)\n"
     ]
    }
   ],
   "source": [
    "!{CLI_CONNECT} -e \"show create table apps\""
   ]
  },
  {
   "cell_type": "code",
   "execution_count": 11,
   "metadata": {},
   "outputs": [
    {
     "name": "stdout",
     "output_type": "stream",
     "text": [
      "Table\tCreate Table\n",
      "pricing_plans\tCREATE TABLE pricing_plans (\n",
      "  id STRING(50),\n",
      "  app_id STRING(50),\n",
      "  title STRING(200),\n",
      "  price FLOAT64,\n",
      ") PRIMARY KEY(id)\n"
     ]
    }
   ],
   "source": [
    "!{CLI_CONNECT} -e \"show create table pricing_plans\""
   ]
  },
  {
   "cell_type": "code",
   "execution_count": 12,
   "metadata": {},
   "outputs": [
    {
     "name": "stdout",
     "output_type": "stream",
     "text": [
      "Table\tCreate Table\n",
      "apps_categories\tCREATE TABLE apps_categories (\n",
      "  app_id STRING(50),\n",
      "  category_id STRING(50),\n",
      ") PRIMARY KEY(app_id, category_id)\n"
     ]
    }
   ],
   "source": [
    "!{CLI_CONNECT} -e \"show create table apps_categories\""
   ]
  },
  {
   "cell_type": "code",
   "execution_count": 13,
   "metadata": {},
   "outputs": [
    {
     "name": "stdout",
     "output_type": "stream",
     "text": [
      "Table\tCreate Table\n",
      "pricing_plan_features\tCREATE TABLE pricing_plan_features (\n",
      "  pricing_plan_id STRING(50),\n",
      "  app_id STRING(50),\n",
      "  feature STRING(MAX),\n",
      ") PRIMARY KEY(pricing_plan_id, app_id, feature)\n"
     ]
    }
   ],
   "source": [
    "!{CLI_CONNECT} -e \"show create table pricing_plan_features\""
   ]
  },
  {
   "cell_type": "code",
   "execution_count": 14,
   "metadata": {},
   "outputs": [
    {
     "name": "stdout",
     "output_type": "stream",
     "text": [
      "Table\tCreate Table\n",
      "categories\tCREATE TABLE categories (\n",
      "  id STRING(50),\n",
      "  title STRING(2000),\n",
      ") PRIMARY KEY(id)\n"
     ]
    }
   ],
   "source": [
    "!{CLI_CONNECT} -e \"show create table categories\""
   ]
  },
  {
   "cell_type": "code",
   "execution_count": 15,
   "metadata": {},
   "outputs": [
    {
     "name": "stdout",
     "output_type": "stream",
     "text": [
      "Table\tCreate Table\n",
      "reviews\tCREATE TABLE reviews (\n",
      "  app_id STRING(50),\n",
      "  author STRING(250),\n",
      "  rating INT64,\n",
      "  posted_at DATE,\n",
      ") PRIMARY KEY(app_id, author)\n"
     ]
    }
   ],
   "source": [
    "!{CLI_CONNECT} -e \"show create table reviews\""
   ]
  },
  {
   "cell_type": "markdown",
   "metadata": {},
   "source": [
    "### 3. Populate tables"
   ]
  },
  {
   "cell_type": "code",
   "execution_count": 16,
   "metadata": {},
   "outputs": [],
   "source": [
    "from google.cloud import spanner\n",
    "from google.cloud.spanner_v1 import param_types\n",
    "import math, random, pandas as pd"
   ]
  },
  {
   "cell_type": "code",
   "execution_count": 17,
   "metadata": {},
   "outputs": [],
   "source": [
    "span_instance='span'\n",
    "span_database='shopify'\n",
    "dir_path = '/home/jupyter/snippets/spanner_shopify'\n",
    "spanner_client = spanner.Client()\n",
    "instance = spanner_client.instance(span_instance)\n",
    "database = instance.database(span_database)"
   ]
  },
  {
   "cell_type": "code",
   "execution_count": 18,
   "metadata": {},
   "outputs": [],
   "source": [
    "def split_dataframe(df, split_size): \n",
    "    splits = list()\n",
    "    num_splits = math.ceil(len(df) / split_size) \n",
    "    for i in range(0, len(df), split_size):\n",
    "        df_subset = df.iloc[i:i + split_size]\n",
    "        splits.append(df_subset)\n",
    "    return splits"
   ]
  },
  {
   "cell_type": "code",
   "execution_count": 19,
   "metadata": {},
   "outputs": [
    {
     "name": "stdout",
     "output_type": "stream",
     "text": [
      "inserting 1000 rows into apps\n",
      "inserting 1000 rows into apps\n",
      "inserting 1000 rows into apps\n",
      "inserting 547 rows into apps\n"
     ]
    }
   ],
   "source": [
    "table = 'apps'\n",
    "df = pd.read_csv(dir_path + '/apps.csv', sep=',', header=0, lineterminator='\\n')\n",
    "\n",
    "df_splits = split_dataframe(df, split_size=1000)\n",
    "\n",
    "for split in df_splits:\n",
    "    rows = split.values.tolist()\n",
    "    print('inserting ' + str(len(rows)) + ' rows into ' + table)\n",
    "\n",
    "    with database.batch() as batch:\n",
    "        batch.insert(\n",
    "            table=table,\n",
    "            columns=('id', 'url', 'title', 'developer', 'developer_link', 'icon', 'rating', 'reviews_count'),\n",
    "            values=rows\n",
    "        )"
   ]
  },
  {
   "cell_type": "code",
   "execution_count": 20,
   "metadata": {},
   "outputs": [
    {
     "name": "stdout",
     "output_type": "stream",
     "text": [
      "inserting 1000 rows into apps_categories\n",
      "inserting 1000 rows into apps_categories\n",
      "inserting 1000 rows into apps_categories\n",
      "inserting 1000 rows into apps_categories\n",
      "inserting 1000 rows into apps_categories\n",
      "inserting 383 rows into apps_categories\n"
     ]
    }
   ],
   "source": [
    "table = 'apps_categories'\n",
    "df = pd.read_csv(dir_path + '/apps_categories.csv', sep=',', header=0, lineterminator='\\n')\n",
    "df_splits = split_dataframe(df, split_size=1000)\n",
    "\n",
    "for split in df_splits:\n",
    "    rows = split.values.tolist()\n",
    "    print('inserting ' + str(len(rows)) + ' rows into ' + table)\n",
    "    \n",
    "    with database.batch() as batch:\n",
    "        batch.insert(\n",
    "            table=table,\n",
    "            columns=('app_id', 'category_id'),\n",
    "            values=rows\n",
    "        )"
   ]
  },
  {
   "cell_type": "code",
   "execution_count": 21,
   "metadata": {},
   "outputs": [
    {
     "name": "stdout",
     "output_type": "stream",
     "text": [
      "inserting 12 rows into categories\n"
     ]
    }
   ],
   "source": [
    "table = 'categories'\n",
    "df = pd.read_csv(dir_path + '/categories.csv', sep=',', header=0, lineterminator='\\n')\n",
    "rows = df.values.tolist()\n",
    "print('inserting ' + str(len(rows)) + ' rows into ' + table)\n",
    "    \n",
    "with database.batch() as batch:\n",
    "    batch.insert(\n",
    "        table=table,\n",
    "        columns=('id', 'title'),\n",
    "        values=rows\n",
    "    )"
   ]
  },
  {
   "cell_type": "code",
   "execution_count": 22,
   "metadata": {},
   "outputs": [
    {
     "name": "stdout",
     "output_type": "stream",
     "text": [
      "inserting 1000 rows into key_benefits\n",
      "inserting 1000 rows into key_benefits\n",
      "inserting 1000 rows into key_benefits\n",
      "inserting 1000 rows into key_benefits\n",
      "inserting 1000 rows into key_benefits\n",
      "inserting 1000 rows into key_benefits\n",
      "inserting 1000 rows into key_benefits\n",
      "inserting 1000 rows into key_benefits\n",
      "inserting 1000 rows into key_benefits\n",
      "inserting 541 rows into key_benefits\n"
     ]
    }
   ],
   "source": [
    "table = 'key_benefits'\n",
    "df = pd.read_csv(dir_path + '/key_benefits.csv', sep=',', header=0, lineterminator='\\n')\n",
    "df_splits = split_dataframe(df, split_size=1000)\n",
    "\n",
    "for split in df_splits:\n",
    "    rows = split.values.tolist()\n",
    "    print('inserting ' + str(len(rows)) + ' rows into ' + table)\n",
    "\n",
    "    with database.batch() as batch:\n",
    "        batch.insert(\n",
    "            table=table,\n",
    "            columns=('app_id', 'title', 'description'),\n",
    "            values=rows\n",
    "        )"
   ]
  },
  {
   "cell_type": "code",
   "execution_count": 23,
   "metadata": {},
   "outputs": [
    {
     "name": "stdout",
     "output_type": "stream",
     "text": [
      "inserting 1000 rows into pricing_plans\n",
      "inserting 1000 rows into pricing_plans\n",
      "inserting 1000 rows into pricing_plans\n",
      "inserting 1000 rows into pricing_plans\n",
      "inserting 1000 rows into pricing_plans\n",
      "inserting 1000 rows into pricing_plans\n",
      "inserting 275 rows into pricing_plans\n"
     ]
    }
   ],
   "source": [
    "table = 'pricing_plans'\n",
    "df = pd.read_csv(dir_path + '/pricing_plans.csv', sep=',', header=0, lineterminator='\\n')\n",
    "df_splits = split_dataframe(df, split_size=1000)\n",
    "\n",
    "for split in df_splits:\n",
    "    rows = split.values.tolist()\n",
    "    print('inserting ' + str(len(rows)) + ' rows into ' + table)\n",
    "\n",
    "    with database.batch() as batch:\n",
    "        batch.insert(\n",
    "            table=table,\n",
    "            columns=('id', 'app_id', 'title', 'price'),\n",
    "            values=rows\n",
    "        )"
   ]
  },
  {
   "cell_type": "code",
   "execution_count": 24,
   "metadata": {},
   "outputs": [
    {
     "name": "stdout",
     "output_type": "stream",
     "text": [
      "inserting 1000 rows into pricing_plan_features\n",
      "inserting 1000 rows into pricing_plan_features\n",
      "inserting 1000 rows into pricing_plan_features\n",
      "inserting 1000 rows into pricing_plan_features\n",
      "inserting 1000 rows into pricing_plan_features\n",
      "inserting 1000 rows into pricing_plan_features\n",
      "inserting 1000 rows into pricing_plan_features\n",
      "inserting 1000 rows into pricing_plan_features\n",
      "inserting 1000 rows into pricing_plan_features\n",
      "inserting 1000 rows into pricing_plan_features\n",
      "inserting 1000 rows into pricing_plan_features\n",
      "inserting 1000 rows into pricing_plan_features\n",
      "inserting 1000 rows into pricing_plan_features\n",
      "inserting 1000 rows into pricing_plan_features\n",
      "inserting 1000 rows into pricing_plan_features\n",
      "inserting 1000 rows into pricing_plan_features\n",
      "inserting 270 rows into pricing_plan_features\n"
     ]
    }
   ],
   "source": [
    "table = 'pricing_plan_features'\n",
    "df = pd.read_csv(dir_path + '/pricing_plan_features.csv', sep=',', header=0, lineterminator='\\n')\n",
    "df_splits = split_dataframe(df, split_size=1000)\n",
    "\n",
    "for split in df_splits:\n",
    "    rows = split.values.tolist()\n",
    "    print('inserting ' + str(len(rows)) + ' rows into ' + table)\n",
    "\n",
    "    with database.batch() as batch:\n",
    "        batch.insert(\n",
    "            table=table,\n",
    "            columns=('pricing_plan_id', 'app_id', 'feature'),\n",
    "            values=rows\n",
    "        )"
   ]
  },
  {
   "cell_type": "code",
   "execution_count": 25,
   "metadata": {},
   "outputs": [
    {
     "name": "stdout",
     "output_type": "stream",
     "text": [
      "\n",
      "3547\n"
     ]
    }
   ],
   "source": [
    "!{CLI_CONNECT} -e \"select count(*) from apps\""
   ]
  },
  {
   "cell_type": "code",
   "execution_count": 26,
   "metadata": {},
   "outputs": [
    {
     "name": "stdout",
     "output_type": "stream",
     "text": [
      "\n",
      "5383\n"
     ]
    }
   ],
   "source": [
    "!{CLI_CONNECT} -e \"select count(*) from apps_categories\""
   ]
  },
  {
   "cell_type": "code",
   "execution_count": 27,
   "metadata": {},
   "outputs": [
    {
     "name": "stdout",
     "output_type": "stream",
     "text": [
      "\n",
      "12\n"
     ]
    }
   ],
   "source": [
    "!{CLI_CONNECT} -e \"select count(*) from categories\""
   ]
  },
  {
   "cell_type": "code",
   "execution_count": 28,
   "metadata": {},
   "outputs": [
    {
     "name": "stdout",
     "output_type": "stream",
     "text": [
      "\n",
      "9541\n"
     ]
    }
   ],
   "source": [
    "!{CLI_CONNECT} -e \"select count(*) from key_benefits\""
   ]
  },
  {
   "cell_type": "code",
   "execution_count": 29,
   "metadata": {},
   "outputs": [
    {
     "name": "stdout",
     "output_type": "stream",
     "text": [
      "\n",
      "6275\n"
     ]
    }
   ],
   "source": [
    "!{CLI_CONNECT} -e \"select count(*) from pricing_plans\""
   ]
  },
  {
   "cell_type": "code",
   "execution_count": 30,
   "metadata": {},
   "outputs": [
    {
     "name": "stdout",
     "output_type": "stream",
     "text": [
      "\n",
      "16270\n"
     ]
    }
   ],
   "source": [
    "!{CLI_CONNECT} -e \"select count(*) from pricing_plan_features\""
   ]
  },
  {
   "cell_type": "code",
   "execution_count": 31,
   "metadata": {},
   "outputs": [
    {
     "name": "stdout",
     "output_type": "stream",
     "text": [
      "1 apps record(s) inserted.\n",
      "1 apps_categories record(s) inserted.\n",
      "1 key_benefits record(s) inserted.\n",
      "1 pricing_plans record(s) inserted.\n",
      "1 pricing_plan_features record(s) inserted.\n"
     ]
    }
   ],
   "source": [
    "def insert_app(transaction):\n",
    "\n",
    "    row_ct = transaction.execute_update(\n",
    "        \"INSERT INTO apps (id, url, title, developer, developer_link, icon, reviews_count) \"\n",
    "        \"VALUES ('683d06af-14c7-4733-9bde-ec5b699af996', \"\n",
    "          \"'https://apps.shopify.com/watchlist?surface_detail=inventory-management&surface_inter_position=1&surface_intra_position=9&surface_type=category',\" \n",
    "          \"'Back in Stock Product Alerts', \"\n",
    "          \"'Swym Corporation', \"\n",
    "          \"'https://apps.shopify.com/partners/developer-ca6a967f09890f68',\"\n",
    "          \"'https://apps.shopifycdn.com/listing_images/9905a4c8f22cb4a3b0c32af55a58ec21/icon/e6d46a7e5e1df375d542d033aae80459.png?height=72&width=72',\"\n",
    "           \"0)\"\n",
    "    )\n",
    "    \n",
    "    print(\"{} apps record(s) inserted.\".format(row_ct))\n",
    "    \n",
    "    row_ct = transaction.execute_update(\n",
    "        \"INSERT INTO apps_categories (app_id, category_id) \"\n",
    "        \"VALUES ('683d06af-14c7-4733-9bde-ec5b699af996', '737ad50051083aa051d127a53b3ac0da')\"\n",
    "    )\n",
    "    \n",
    "    print(\"{} apps_categories record(s) inserted.\".format(row_ct))\n",
    "    \n",
    "    \n",
    "    row_ct = transaction.execute_update(\n",
    "        \"INSERT INTO key_benefits (app_id, title, description) \"\n",
    "        \"VALUES ('683d06af-14c7-4733-9bde-ec5b699af996', \"\n",
    "          \"'Drive Back In Stock Sales', 'Back in stock, out of stock, pre order & restock alerts')\"\n",
    "    )\n",
    "    \n",
    "    print(\"{} key_benefits record(s) inserted.\".format(row_ct))\n",
    "    \n",
    "    row_ct = transaction.execute_update(\n",
    "        \"INSERT INTO pricing_plans (id, app_id, title, price) \"\n",
    "        \"VALUES ('961a2751-1dbd-4f0f-8248-9fe6a6efd4ab', '683d06af-14c7-4733-9bde-ec5b699af996', \"\n",
    "                \"'Free Trial', 14.99)\"\n",
    "    )\n",
    "    \n",
    "    print(\"{} pricing_plans record(s) inserted.\".format(row_ct))\n",
    "    \n",
    "\n",
    "    row_ct = transaction.execute_update(\n",
    "        \"INSERT INTO pricing_plan_features (app_id, pricing_plan_id, feature) \"\n",
    "        \" VALUES ('683d06af-14c7-4733-9bde-ec5b699af996', '961a2751-1dbd-4f0f-8248-9fe6a6efd4ab', \"\n",
    "                 \"'Up to 250 alert requests/mo')\"\n",
    "    )\n",
    "    \n",
    "    print(\"{} pricing_plan_features record(s) inserted.\".format(row_ct))\n",
    "      \n",
    "database.run_in_transaction(insert_app)"
   ]
  },
  {
   "cell_type": "code",
   "execution_count": null,
   "metadata": {},
   "outputs": [],
   "source": []
  },
  {
   "cell_type": "code",
   "execution_count": 32,
   "metadata": {},
   "outputs": [
    {
     "name": "stdout",
     "output_type": "stream",
     "text": [
      "4780 pricing_plans record(s) updated.\n"
     ]
    }
   ],
   "source": [
    "def update_price(transaction):\n",
    "    row_ct = transaction.execute_update(\n",
    "            \"UPDATE pricing_plans \"\n",
    "            \"SET price = price / 2 \"\n",
    "            \"WHERE price > 0\"\n",
    "        )\n",
    "\n",
    "    print(\"{} pricing_plans record(s) updated.\".format(row_ct))\n",
    "\n",
    "database.run_in_transaction(update_price)"
   ]
  },
  {
   "cell_type": "code",
   "execution_count": 33,
   "metadata": {},
   "outputs": [
    {
     "name": "stdout",
     "output_type": "stream",
     "text": [
      "1 apps record(s) deleted.\n",
      "1 apps_categories record(s) deleted.\n",
      "1 key_benefits record(s) deleted.\n",
      "1 pricing_plans record(s) deleted.\n",
      "1 pricing_plan_features record(s) deleted.\n"
     ]
    }
   ],
   "source": [
    "def delete_app(transaction):\n",
    "        row_ct = transaction.execute_update(\n",
    "            \"DELETE FROM apps WHERE id = '683d06af-14c7-4733-9bde-ec5b699af996'\"\n",
    "        )\n",
    "\n",
    "        print(\"{} apps record(s) deleted.\".format(row_ct))\n",
    "        \n",
    "        row_ct = transaction.execute_update(\n",
    "            \"DELETE FROM apps_categories WHERE app_id = '683d06af-14c7-4733-9bde-ec5b699af996'\"\n",
    "        )\n",
    "        \n",
    "        print(\"{} apps_categories record(s) deleted.\".format(row_ct))\n",
    "        \n",
    "        row_ct = transaction.execute_update(\n",
    "            \"DELETE FROM key_benefits WHERE app_id = '683d06af-14c7-4733-9bde-ec5b699af996'\"\n",
    "        )\n",
    "        \n",
    "        print(\"{} key_benefits record(s) deleted.\".format(row_ct)) \n",
    "        \n",
    "        \n",
    "        row_ct = transaction.execute_update(\n",
    "            \"DELETE FROM pricing_plans WHERE app_id = '683d06af-14c7-4733-9bde-ec5b699af996'\"\n",
    "        )\n",
    "        \n",
    "        print(\"{} pricing_plans record(s) deleted.\".format(row_ct)) \n",
    "        \n",
    "        \n",
    "        row_ct = transaction.execute_update(\n",
    "            \"DELETE FROM pricing_plan_features WHERE app_id = '683d06af-14c7-4733-9bde-ec5b699af996'\"\n",
    "        )\n",
    "        \n",
    "        print(\"{} pricing_plan_features record(s) deleted.\".format(row_ct))\n",
    "\n",
    "database.run_in_transaction(delete_app)"
   ]
  },
  {
   "cell_type": "code",
   "execution_count": 34,
   "metadata": {},
   "outputs": [],
   "source": [
    "!{CLI_CONNECT} -e \"ALTER TABLE apps_categories \\\n",
    "  ADD CONSTRAINT apps_cat_app_id_fk FOREIGN KEY (app_id) REFERENCES apps (id)\""
   ]
  },
  {
   "cell_type": "code",
   "execution_count": 35,
   "metadata": {},
   "outputs": [
    {
     "name": "stdout",
     "output_type": "stream",
     "text": [
      "Table\tCreate Table\n",
      "apps_categories\tCREATE TABLE apps_categories (\n",
      "  app_id STRING(50),\n",
      "  category_id STRING(50),\n",
      "  CONSTRAINT apps_cat_app_id_fk FOREIGN KEY(app_id) REFERENCES apps(id),\n",
      ") PRIMARY KEY(app_id, category_id)\n"
     ]
    }
   ],
   "source": [
    "!{CLI_CONNECT} -e \"show create table apps_categories\""
   ]
  },
  {
   "cell_type": "code",
   "execution_count": 36,
   "metadata": {},
   "outputs": [],
   "source": [
    "!{CLI_CONNECT} -e \"CREATE INDEX apps_rating_idx ON apps(rating)\""
   ]
  },
  {
   "cell_type": "code",
   "execution_count": 37,
   "metadata": {},
   "outputs": [],
   "source": [
    "### Begin Project 3 work"
   ]
  },
  {
   "cell_type": "code",
   "execution_count": 38,
   "metadata": {
    "collapsed": true,
    "jupyter": {
     "outputs_hidden": true
    }
   },
   "outputs": [
    {
     "name": "stdout",
     "output_type": "stream",
     "text": [
      "inserting 1000 rows into reviews\n",
      "inserting 1000 rows into reviews\n",
      "inserting 1000 rows into reviews\n",
      "inserting 1000 rows into reviews\n",
      "inserting 1000 rows into reviews\n",
      "inserting 1000 rows into reviews\n",
      "inserting 1000 rows into reviews\n",
      "inserting 1000 rows into reviews\n",
      "inserting 1000 rows into reviews\n",
      "inserting 1000 rows into reviews\n",
      "inserting 1000 rows into reviews\n",
      "inserting 1000 rows into reviews\n",
      "inserting 1000 rows into reviews\n",
      "inserting 1000 rows into reviews\n",
      "inserting 1000 rows into reviews\n",
      "inserting 1000 rows into reviews\n",
      "inserting 1000 rows into reviews\n",
      "inserting 1000 rows into reviews\n",
      "inserting 1000 rows into reviews\n",
      "inserting 1000 rows into reviews\n",
      "inserting 1000 rows into reviews\n",
      "inserting 1000 rows into reviews\n",
      "inserting 1000 rows into reviews\n",
      "inserting 1000 rows into reviews\n",
      "inserting 1000 rows into reviews\n",
      "inserting 1000 rows into reviews\n",
      "inserting 1000 rows into reviews\n",
      "inserting 1000 rows into reviews\n",
      "inserting 1000 rows into reviews\n",
      "inserting 1000 rows into reviews\n",
      "inserting 1000 rows into reviews\n",
      "inserting 1000 rows into reviews\n",
      "inserting 1000 rows into reviews\n",
      "inserting 1000 rows into reviews\n",
      "inserting 1000 rows into reviews\n",
      "inserting 1000 rows into reviews\n",
      "inserting 1000 rows into reviews\n",
      "inserting 1000 rows into reviews\n",
      "inserting 1000 rows into reviews\n",
      "inserting 1000 rows into reviews\n",
      "inserting 1000 rows into reviews\n",
      "inserting 1000 rows into reviews\n",
      "inserting 1000 rows into reviews\n",
      "inserting 1000 rows into reviews\n",
      "inserting 1000 rows into reviews\n",
      "inserting 1000 rows into reviews\n",
      "inserting 1000 rows into reviews\n",
      "inserting 1000 rows into reviews\n",
      "inserting 1000 rows into reviews\n",
      "inserting 1000 rows into reviews\n",
      "inserting 1000 rows into reviews\n",
      "inserting 1000 rows into reviews\n",
      "inserting 1000 rows into reviews\n",
      "inserting 1000 rows into reviews\n",
      "inserting 1000 rows into reviews\n",
      "inserting 1000 rows into reviews\n",
      "inserting 1000 rows into reviews\n",
      "inserting 1000 rows into reviews\n",
      "inserting 1000 rows into reviews\n",
      "inserting 1000 rows into reviews\n",
      "inserting 1000 rows into reviews\n",
      "inserting 1000 rows into reviews\n",
      "inserting 1000 rows into reviews\n",
      "inserting 1000 rows into reviews\n",
      "inserting 1000 rows into reviews\n",
      "inserting 1000 rows into reviews\n",
      "inserting 1000 rows into reviews\n",
      "inserting 1000 rows into reviews\n",
      "inserting 1000 rows into reviews\n",
      "inserting 1000 rows into reviews\n",
      "inserting 1000 rows into reviews\n",
      "inserting 1000 rows into reviews\n",
      "inserting 1000 rows into reviews\n",
      "inserting 1000 rows into reviews\n",
      "inserting 1000 rows into reviews\n",
      "inserting 1000 rows into reviews\n",
      "inserting 1000 rows into reviews\n",
      "inserting 1000 rows into reviews\n",
      "inserting 1000 rows into reviews\n",
      "inserting 1000 rows into reviews\n",
      "inserting 1000 rows into reviews\n",
      "inserting 1000 rows into reviews\n",
      "inserting 1000 rows into reviews\n",
      "inserting 1000 rows into reviews\n",
      "inserting 1000 rows into reviews\n",
      "inserting 1000 rows into reviews\n",
      "inserting 1000 rows into reviews\n",
      "inserting 1000 rows into reviews\n",
      "inserting 1000 rows into reviews\n",
      "inserting 1000 rows into reviews\n",
      "inserting 1000 rows into reviews\n",
      "inserting 1000 rows into reviews\n",
      "inserting 1000 rows into reviews\n",
      "inserting 1000 rows into reviews\n",
      "inserting 1000 rows into reviews\n",
      "inserting 1000 rows into reviews\n",
      "inserting 1000 rows into reviews\n",
      "inserting 1000 rows into reviews\n",
      "inserting 1000 rows into reviews\n",
      "inserting 1000 rows into reviews\n",
      "inserting 1000 rows into reviews\n",
      "inserting 1000 rows into reviews\n",
      "inserting 1000 rows into reviews\n",
      "inserting 1000 rows into reviews\n",
      "inserting 1000 rows into reviews\n",
      "inserting 1000 rows into reviews\n",
      "inserting 1000 rows into reviews\n",
      "inserting 1000 rows into reviews\n",
      "inserting 1000 rows into reviews\n",
      "inserting 1000 rows into reviews\n",
      "inserting 1000 rows into reviews\n",
      "inserting 1000 rows into reviews\n",
      "inserting 1000 rows into reviews\n",
      "inserting 1000 rows into reviews\n",
      "inserting 1000 rows into reviews\n",
      "inserting 1000 rows into reviews\n",
      "inserting 1000 rows into reviews\n",
      "inserting 1000 rows into reviews\n",
      "inserting 1000 rows into reviews\n",
      "inserting 1000 rows into reviews\n",
      "inserting 1000 rows into reviews\n",
      "inserting 1000 rows into reviews\n",
      "inserting 1000 rows into reviews\n",
      "inserting 1000 rows into reviews\n",
      "inserting 601 rows into reviews\n"
     ]
    }
   ],
   "source": [
    "table = 'reviews'\n",
    "df = pd.read_csv(dir_path + '/reviews.csv', sep=',', header=0, lineterminator='\\n')\n",
    "df_splits = split_dataframe(df, split_size=1000)\n",
    "\n",
    "for split in df_splits:\n",
    "    rows = split.values.tolist()\n",
    "    print('inserting ' + str(len(rows)) + ' rows into ' + table)\n",
    "    \n",
    "    with database.batch() as batch:\n",
    "        batch.insert(\n",
    "            table=table,\n",
    "            columns=('app_id', 'author','rating','posted_at'),\n",
    "            values=rows\n",
    "        )"
   ]
  },
  {
   "cell_type": "code",
   "execution_count": 39,
   "metadata": {},
   "outputs": [
    {
     "name": "stdout",
     "output_type": "stream",
     "text": [
      "\n",
      "124601\n"
     ]
    }
   ],
   "source": [
    "!{CLI_CONNECT} -e \"SELECT count(*) from reviews\""
   ]
  },
  {
   "cell_type": "code",
   "execution_count": 40,
   "metadata": {},
   "outputs": [
    {
     "name": "stdout",
     "output_type": "stream",
     "text": [
      "Table\tCreate Table\n",
      "reviews\tCREATE TABLE reviews (\n",
      "  app_id STRING(50),\n",
      "  author STRING(250),\n",
      "  rating INT64,\n",
      "  posted_at DATE,\n",
      ") PRIMARY KEY(app_id, author)\n"
     ]
    }
   ],
   "source": [
    "!{CLI_CONNECT} -e \"SHOW CREATE TABLE reviews\""
   ]
  },
  {
   "cell_type": "code",
   "execution_count": 41,
   "metadata": {
    "collapsed": true,
    "jupyter": {
     "outputs_hidden": true
    }
   },
   "outputs": [
    {
     "name": "stdout",
     "output_type": "stream",
     "text": [
      "inserting 1000 rows into reviews\n",
      "inserting 1000 rows into reviews\n",
      "inserting 1000 rows into reviews\n",
      "inserting 1000 rows into reviews\n",
      "inserting 1000 rows into reviews\n",
      "inserting 1000 rows into reviews\n",
      "inserting 1000 rows into reviews\n",
      "inserting 1000 rows into reviews\n",
      "inserting 1000 rows into reviews\n",
      "inserting 1000 rows into reviews\n",
      "inserting 1000 rows into reviews\n",
      "inserting 1000 rows into reviews\n",
      "inserting 1000 rows into reviews\n",
      "inserting 1000 rows into reviews\n",
      "inserting 1000 rows into reviews\n",
      "inserting 1000 rows into reviews\n",
      "inserting 1000 rows into reviews\n",
      "inserting 1000 rows into reviews\n",
      "inserting 1000 rows into reviews\n",
      "inserting 1000 rows into reviews\n",
      "inserting 1000 rows into reviews\n",
      "inserting 1000 rows into reviews\n",
      "inserting 1000 rows into reviews\n",
      "inserting 1000 rows into reviews\n",
      "inserting 1000 rows into reviews\n",
      "inserting 1000 rows into reviews\n",
      "inserting 1000 rows into reviews\n",
      "inserting 1000 rows into reviews\n",
      "inserting 1000 rows into reviews\n",
      "inserting 1000 rows into reviews\n",
      "inserting 1000 rows into reviews\n",
      "inserting 1000 rows into reviews\n",
      "inserting 1000 rows into reviews\n",
      "inserting 1000 rows into reviews\n",
      "inserting 1000 rows into reviews\n",
      "inserting 1000 rows into reviews\n",
      "inserting 1000 rows into reviews\n",
      "inserting 1000 rows into reviews\n",
      "inserting 1000 rows into reviews\n",
      "inserting 1000 rows into reviews\n",
      "inserting 1000 rows into reviews\n",
      "inserting 1000 rows into reviews\n",
      "inserting 1000 rows into reviews\n",
      "inserting 1000 rows into reviews\n",
      "inserting 1000 rows into reviews\n",
      "inserting 1000 rows into reviews\n",
      "inserting 1000 rows into reviews\n",
      "inserting 1000 rows into reviews\n",
      "inserting 1000 rows into reviews\n",
      "inserting 1000 rows into reviews\n",
      "inserting 1000 rows into reviews\n",
      "inserting 1000 rows into reviews\n",
      "inserting 1000 rows into reviews\n",
      "inserting 1000 rows into reviews\n",
      "inserting 1000 rows into reviews\n",
      "inserting 1000 rows into reviews\n",
      "inserting 1000 rows into reviews\n",
      "inserting 1000 rows into reviews\n",
      "inserting 1000 rows into reviews\n",
      "inserting 1000 rows into reviews\n",
      "inserting 1000 rows into reviews\n",
      "inserting 1000 rows into reviews\n",
      "inserting 1000 rows into reviews\n",
      "inserting 1000 rows into reviews\n",
      "inserting 1000 rows into reviews\n",
      "inserting 1000 rows into reviews\n",
      "inserting 1000 rows into reviews\n",
      "inserting 1000 rows into reviews\n",
      "inserting 1000 rows into reviews\n",
      "inserting 1000 rows into reviews\n",
      "inserting 1000 rows into reviews\n",
      "inserting 1000 rows into reviews\n",
      "inserting 1000 rows into reviews\n",
      "inserting 1000 rows into reviews\n",
      "inserting 1000 rows into reviews\n",
      "inserting 1000 rows into reviews\n",
      "inserting 1000 rows into reviews\n",
      "inserting 1000 rows into reviews\n",
      "inserting 1000 rows into reviews\n",
      "inserting 1000 rows into reviews\n",
      "inserting 1000 rows into reviews\n",
      "inserting 1000 rows into reviews\n",
      "inserting 1000 rows into reviews\n",
      "inserting 1000 rows into reviews\n",
      "inserting 1000 rows into reviews\n",
      "inserting 1000 rows into reviews\n",
      "inserting 1000 rows into reviews\n",
      "inserting 1000 rows into reviews\n",
      "inserting 1000 rows into reviews\n",
      "inserting 1000 rows into reviews\n",
      "inserting 1000 rows into reviews\n",
      "inserting 1000 rows into reviews\n",
      "inserting 1000 rows into reviews\n",
      "inserting 1000 rows into reviews\n",
      "inserting 1000 rows into reviews\n",
      "inserting 1000 rows into reviews\n",
      "inserting 1000 rows into reviews\n",
      "inserting 1000 rows into reviews\n",
      "inserting 1000 rows into reviews\n",
      "inserting 1000 rows into reviews\n"
     ]
    }
   ],
   "source": [
    "# insert 100,000 reviews\n",
    "import random \n",
    "\n",
    "n=1\n",
    "review_list = []\n",
    "for i in range(100000):\n",
    "    random_rating=random.randint(1,5)\n",
    "    random_name='Homer Simpson'+str(i+n*1000)\n",
    "    review=['6286d4cd-3fcb-4ee3-bb3c-de051c28b83c', random_name, random_rating, \"2021-09-20\"]\n",
    "    review_list.append(review)\n",
    "    n+=1\n",
    "\n",
    "table = 'reviews'\n",
    "df = pd.DataFrame(review_list, columns=['app_id', 'author', 'rating', 'posted_at'])\n",
    "df_splits = split_dataframe(df, split_size=1000)\n",
    "\n",
    "for split in df_splits:\n",
    "    rows = split.values.tolist()\n",
    "    print('inserting ' + str(len(rows)) + ' rows into ' + table)\n",
    "    \n",
    "    with database.batch() as batch:\n",
    "        batch.insert(\n",
    "            table=table,\n",
    "            columns=('app_id', 'author','rating','posted_at'),\n",
    "            values=rows\n",
    "        )"
   ]
  },
  {
   "cell_type": "code",
   "execution_count": 42,
   "metadata": {},
   "outputs": [
    {
     "name": "stdout",
     "output_type": "stream",
     "text": [
      "\n",
      "224601\n"
     ]
    }
   ],
   "source": [
    "# verifying reviews inserted\n",
    "!{CLI_CONNECT} -e \"SELECT count(*) from reviews\""
   ]
  },
  {
   "cell_type": "code",
   "execution_count": 43,
   "metadata": {},
   "outputs": [
    {
     "name": "stdout",
     "output_type": "stream",
     "text": [
      "avg\n",
      "2.999910\n"
     ]
    }
   ],
   "source": [
    "!{CLI_CONNECT} -e \"SELECT AVG(rating) as avg from reviews WHERE app_id='6286d4cd-3fcb-4ee3-bb3c-de051c28b83c' \""
   ]
  },
  {
   "cell_type": "code",
   "execution_count": 44,
   "metadata": {},
   "outputs": [
    {
     "name": "stdout",
     "output_type": "stream",
     "text": [
      "\n",
      "100000\n"
     ]
    }
   ],
   "source": [
    "!{CLI_CONNECT} -e \"SELECT count(*) from reviews WHERE app_id='6286d4cd-3fcb-4ee3-bb3c-de051c28b83c'\""
   ]
  },
  {
   "cell_type": "code",
   "execution_count": 45,
   "metadata": {},
   "outputs": [
    {
     "name": "stdout",
     "output_type": "stream",
     "text": [
      "1 apps record(s) updated.\n"
     ]
    }
   ],
   "source": [
    "# calculated average, review count for app id '6286d4cd-3fcb-4ee3-bb3c-de051c28b83c' above\n",
    "# update apps table  \n",
    "\n",
    "avg_rating=2.991850\n",
    "num_reviews=100000\n",
    "\n",
    "def update_apps(transaction):\n",
    "    \n",
    "    row_ct = transaction.execute_update(\n",
    "        \"UPDATE apps \"\n",
    "        \" SET rating = {}, reviews_count = {}\"\n",
    "        \" WHERE id = '6286d4cd-3fcb-4ee3-bb3c-de051c28b83c'\".format(avg_rating, num_reviews)\n",
    "        \n",
    "        )\n",
    "    print(\"{} apps record(s) updated.\".format(row_ct))    \n",
    "    \n",
    "database.run_in_transaction(update_apps)"
   ]
  },
  {
   "cell_type": "code",
   "execution_count": 46,
   "metadata": {},
   "outputs": [],
   "source": [
    "!{CLI_CONNECT} -e \"create index reviews_author_idx on reviews(author)\""
   ]
  },
  {
   "cell_type": "code",
   "execution_count": null,
   "metadata": {},
   "outputs": [],
   "source": [
    "# Initial query took 21.41 ms\n",
    "# After creating the index on review(author), the rerun query took 26.06 ms"
   ]
  },
  {
   "cell_type": "code",
   "execution_count": 47,
   "metadata": {},
   "outputs": [],
   "source": [
    "!{CLI_CONNECT} -e \"ALTER TABLE key_benefits \\\n",
    "    ADD CONSTRAINT key_benefits_app_id_fk FOREIGN KEY (app_id) REFERENCES apps(id)\""
   ]
  },
  {
   "cell_type": "code",
   "execution_count": 48,
   "metadata": {},
   "outputs": [],
   "source": [
    "!{CLI_CONNECT} -e \"ALTER TABLE pricing_plan_features \\\n",
    "    ADD CONSTRAINT p_p_features_app_id_fk FOREIGN KEY (app_id) REFERENCES apps(id)\""
   ]
  },
  {
   "cell_type": "code",
   "execution_count": 49,
   "metadata": {},
   "outputs": [],
   "source": [
    "!{CLI_CONNECT} -e \"ALTER TABLE pricing_plans \\\n",
    "    ADD CONSTRAINT p_p_app_id FOREIGN KEY (app_id) REFERENCES apps(id)\""
   ]
  },
  {
   "cell_type": "code",
   "execution_count": 50,
   "metadata": {},
   "outputs": [],
   "source": [
    "!{CLI_CONNECT} -e \"ALTER TABLE reviews \\\n",
    "    ADD CONSTRAINT reviews_app_id_fk FOREIGN KEY (app_id) REFERENCES apps(id)\""
   ]
  },
  {
   "cell_type": "code",
   "execution_count": 51,
   "metadata": {},
   "outputs": [],
   "source": [
    "!{CLI_CONNECT} -e \"ALTER TABLE apps_categories \\\n",
    "    ADD CONSTRAINT app_cats_category_id_fk FOREIGN KEY (category_id) REFERENCES categories(id)\""
   ]
  },
  {
   "cell_type": "code",
   "execution_count": 52,
   "metadata": {},
   "outputs": [],
   "source": [
    "!{CLI_CONNECT} -e \"ALTER TABLE pricing_plan_features \\\n",
    "    ADD CONSTRAINT p_p_features_p_p_id_fk FOREIGN KEY (pricing_plan_id) REFERENCES pricing_plans(id)\""
   ]
  },
  {
   "cell_type": "code",
   "execution_count": 53,
   "metadata": {},
   "outputs": [
    {
     "name": "stdout",
     "output_type": "stream",
     "text": [
      "Table\tCreate Table\n",
      "key_benefits\tCREATE TABLE key_benefits (\n",
      "  app_id STRING(50),\n",
      "  title STRING(2000),\n",
      "  description STRING(MAX),\n",
      "  CONSTRAINT key_benefits_app_id_fk FOREIGN KEY(app_id) REFERENCES apps(id),\n",
      ") PRIMARY KEY(app_id, title)\n"
     ]
    }
   ],
   "source": [
    "!{CLI_CONNECT} -e \"show create table key_benefits\""
   ]
  },
  {
   "cell_type": "code",
   "execution_count": 54,
   "metadata": {},
   "outputs": [
    {
     "name": "stdout",
     "output_type": "stream",
     "text": [
      "Table\tCreate Table\n",
      "pricing_plan_features\tCREATE TABLE pricing_plan_features (\n",
      "  pricing_plan_id STRING(50),\n",
      "  app_id STRING(50),\n",
      "  feature STRING(MAX),\n",
      "  CONSTRAINT p_p_features_app_id_fk FOREIGN KEY(app_id) REFERENCES apps(id),\n",
      ") PRIMARY KEY(pricing_plan_id, app_id, feature)\n"
     ]
    }
   ],
   "source": [
    "!{CLI_CONNECT} -e \"show create table pricing_plan_features\""
   ]
  },
  {
   "cell_type": "code",
   "execution_count": 55,
   "metadata": {},
   "outputs": [
    {
     "name": "stdout",
     "output_type": "stream",
     "text": [
      "Table\tCreate Table\n",
      "pricing_plans\tCREATE TABLE pricing_plans (\n",
      "  id STRING(50),\n",
      "  app_id STRING(50),\n",
      "  title STRING(200),\n",
      "  price FLOAT64,\n",
      "  CONSTRAINT p_p_app_id FOREIGN KEY(app_id) REFERENCES apps(id),\n",
      ") PRIMARY KEY(id)\n"
     ]
    }
   ],
   "source": [
    "!{CLI_CONNECT} -e \"show create table pricing_plans\""
   ]
  },
  {
   "cell_type": "code",
   "execution_count": 56,
   "metadata": {},
   "outputs": [
    {
     "name": "stdout",
     "output_type": "stream",
     "text": [
      "Table\tCreate Table\n",
      "reviews\tCREATE TABLE reviews (\n",
      "  app_id STRING(50),\n",
      "  author STRING(250),\n",
      "  rating INT64,\n",
      "  posted_at DATE,\n",
      "  CONSTRAINT reviews_app_id_fk FOREIGN KEY(app_id) REFERENCES apps(id),\n",
      ") PRIMARY KEY(app_id, author)\n"
     ]
    }
   ],
   "source": [
    "!{CLI_CONNECT} -e \"show create table reviews\""
   ]
  },
  {
   "cell_type": "code",
   "execution_count": 57,
   "metadata": {},
   "outputs": [
    {
     "name": "stdout",
     "output_type": "stream",
     "text": [
      "Table\tCreate Table\n",
      "apps_categories\tCREATE TABLE apps_categories (\n",
      "  app_id STRING(50),\n",
      "  category_id STRING(50),\n",
      "  CONSTRAINT apps_cat_app_id_fk FOREIGN KEY(app_id) REFERENCES apps(id),\n",
      ") PRIMARY KEY(app_id, category_id)\n"
     ]
    }
   ],
   "source": [
    "!{CLI_CONNECT} -e \"show create table apps_categories\""
   ]
  },
  {
   "cell_type": "code",
   "execution_count": null,
   "metadata": {},
   "outputs": [],
   "source": []
  }
 ],
 "metadata": {
  "environment": {
   "name": "common-cpu.m78",
   "type": "gcloud",
   "uri": "gcr.io/deeplearning-platform-release/base-cpu:m78"
  },
  "kernelspec": {
   "display_name": "Python 3",
   "language": "python",
   "name": "python3"
  },
  "language_info": {
   "codemirror_mode": {
    "name": "ipython",
    "version": 3
   },
   "file_extension": ".py",
   "mimetype": "text/x-python",
   "name": "python",
   "nbconvert_exporter": "python",
   "pygments_lexer": "ipython3",
   "version": "3.7.10"
  }
 },
 "nbformat": 4,
 "nbformat_minor": 4
}
