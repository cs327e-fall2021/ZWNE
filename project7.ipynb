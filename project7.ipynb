{
 "cells": [
  {
   "cell_type": "code",
   "execution_count": 1,
   "id": "c922e9a2",
   "metadata": {},
   "outputs": [
    {
     "name": "stdout",
     "output_type": "stream",
     "text": [
      "env: CYPHER=/home/jupyter/neo4j-community-4.3.3/bin/cypher-shell\n",
      "env: USER=neo4j\n",
      "env: PW=ZWNETHEBEST\n"
     ]
    }
   ],
   "source": [
    "%env CYPHER=/home/jupyter/neo4j-community-4.3.3/bin/cypher-shell\n",
    "%env USER=neo4j\n",
    "%env PW=ZWNETHEBEST"
   ]
  },
  {
   "cell_type": "code",
   "execution_count": 2,
   "id": "996b8eaf",
   "metadata": {},
   "outputs": [],
   "source": [
    "CONNECT=\"$CYPHER -u $USER -p $PW\""
   ]
  },
  {
   "cell_type": "code",
   "execution_count": null,
   "id": "c77fa594",
   "metadata": {},
   "outputs": [],
   "source": [
    "# Don't rerun next command"
   ]
  },
  {
   "cell_type": "code",
   "execution_count": 3,
   "id": "fc406e9c",
   "metadata": {},
   "outputs": [
    {
     "name": "stdout",
     "output_type": "stream",
     "text": [
      "COUNT(l)\n",
      "5835\n",
      "COUNT(a)\n",
      "42\n",
      "COUNT(n)\n",
      "41\n",
      "COUNT(h)\n",
      "4633\n",
      "COUNT(u)\n",
      "55917\n",
      "COUNT(r)\n",
      "62976\n"
     ]
    }
   ],
   "source": [
    "!cat /home/jupyter/airbnb/load_data.cypher | {CONNECT} --format plain"
   ]
  },
  {
   "cell_type": "code",
   "execution_count": 62,
   "id": "7604d369",
   "metadata": {},
   "outputs": [
    {
     "name": "stdout",
     "output_type": "stream",
     "text": [
      "+----------+\n",
      "| count(n) |\n",
      "+----------+\n",
      "| 129444   |\n",
      "+----------+\n",
      "\n",
      "1 row\n",
      "ready to start consuming query after 2 ms, results consumed after another 0 ms\n"
     ]
    }
   ],
   "source": [
    "!{CONNECT} \"MATCH (n) RETURN count(n)\""
   ]
  },
  {
   "cell_type": "code",
   "execution_count": 63,
   "id": "64050be7",
   "metadata": {},
   "outputs": [
    {
     "name": "stdout",
     "output_type": "stream",
     "text": [
      "+-----------------------------+\n",
      "| labels(n)        | count(n) |\n",
      "+-----------------------------+\n",
      "| [\"Listing\"]      | 5835     |\n",
      "| [\"Amenity\"]      | 42       |\n",
      "| [\"Neighborhood\"] | 41       |\n",
      "| [\"Host\"]         | 4633     |\n",
      "| [\"User\"]         | 55917    |\n",
      "| [\"Review\"]       | 62976    |\n",
      "+-----------------------------+\n",
      "\n",
      "6 rows\n",
      "ready to start consuming query after 14 ms, results consumed after another 116 ms\n"
     ]
    }
   ],
   "source": [
    "!{CONNECT} \"MATCH (n) RETURN distinct labels(n), count(n)\""
   ]
  },
  {
   "cell_type": "code",
   "execution_count": 64,
   "id": "52912ebd",
   "metadata": {},
   "outputs": [],
   "source": [
    "# Q1. How many hosts are located in \"Austin, Texas, United States\"?"
   ]
  },
  {
   "cell_type": "code",
   "execution_count": 74,
   "id": "6e2c9553",
   "metadata": {},
   "outputs": [
    {
     "name": "stdout",
     "output_type": "stream",
     "text": [
      "+------------+\n",
      "| Count(ATX) |\n",
      "+------------+\n",
      "| 3774       |\n",
      "+------------+\n",
      "\n",
      "1 row\n",
      "ready to start consuming query after 2 ms, results consumed after another 4 ms\n"
     ]
    }
   ],
   "source": [
    "!{CONNECT} \"MATCH (ATX:Host {{location: 'Austin, Texas, United States'}}) RETURN Count(ATX) \""
   ]
  },
  {
   "cell_type": "code",
   "execution_count": 75,
   "id": "ff3a5cda",
   "metadata": {},
   "outputs": [],
   "source": [
    "# Q2. Which listings does host_id = \"4641823\" have? \n",
    "# Return the listing name, property_type, price, and availability_365 sorted by price. Limit the results to 10."
   ]
  },
  {
   "cell_type": "code",
   "execution_count": 76,
   "id": "c59a19ab",
   "metadata": {},
   "outputs": [
    {
     "name": "stdout",
     "output_type": "stream",
     "text": [
      "+----------------------------------------------------------------------------------------+\n",
      "| l.name                                | l.property_type | l.price | l.availability_365 |\n",
      "+----------------------------------------------------------------------------------------+\n",
      "| \"1BR Convenient Austin Condo \"        | \"Apartment\"     | 93.0    | 354                |\n",
      "| \"1BR Inviting Downtown Condo, Pool\"   | \"Apartment\"     | 99.0    | 335                |\n",
      "| \"2BR/1.5BA Charming House Off SoCo\"   | \"House\"         | 110.0   | 357                |\n",
      "| \"2BR Prime East-Side Downtown\"        | \"House\"         | 121.0   | 341                |\n",
      "| \"1BR SoCo Treehouse Studio\"           | \"House\"         | 129.0   | 327                |\n",
      "| \"1BR/1.5BA East 6th, Colorful 2Story\" | \"Apartment\"     | 134.0   | 344                |\n",
      "| \"3BR Prestigious Home Travis Heights\" | \"House\"         | 138.0   | 0                  |\n",
      "| \"1BR/1.5BA Perfectly Located Casita\"  | \"House\"         | 140.0   | 351                |\n",
      "| \"3BR/2BA Inviting Retreat off SoCo\"   | \"House\"         | 145.0   | 353                |\n",
      "| \"2BR/2BA Austin Soul Off Soco!\"       | \"House\"         | 149.0   | 334                |\n",
      "+----------------------------------------------------------------------------------------+\n",
      "\n",
      "10 rows\n",
      "ready to start consuming query after 1 ms, results consumed after another 1 ms\n"
     ]
    }
   ],
   "source": [
    "!{CONNECT} \"MATCH (h:Host {{host_id: '4641823'}})-[:HOSTS]->(l) RETURN l.name, l.property_type, l.price, l.availability_365 ORDER BY l.price LIMIT 10\""
   ]
  },
  {
   "cell_type": "code",
   "execution_count": 77,
   "id": "2a6c5fe1",
   "metadata": {},
   "outputs": [],
   "source": [
    "# Q3. Which users wrote a review for listing_id = \"5293632\"? \n",
    "# Return the user’s id and name sorted alphabetically by name. Limit the results to 10."
   ]
  },
  {
   "cell_type": "code",
   "execution_count": 78,
   "id": "e254f3bf",
   "metadata": {},
   "outputs": [
    {
     "name": "stdout",
     "output_type": "stream",
     "text": [
      "+--------------------------------+\n",
      "| ID         | Name              |\n",
      "+--------------------------------+\n",
      "| \"18286390\" | \"Annie\"           |\n",
      "| \"30193020\" | \"Carole\"          |\n",
      "| \"16497582\" | \"Cory\"            |\n",
      "| \"35022795\" | \"Craig And Trina\" |\n",
      "| \"13281665\" | \"Dianne\"          |\n",
      "| \"29601600\" | \"Hannah\"          |\n",
      "| \"11940539\" | \"Jacob\"           |\n",
      "| \"3213433\"  | \"Jessie\"          |\n",
      "| \"41722221\" | \"Johannes\"        |\n",
      "| \"28480571\" | \"Ju-Ju\"           |\n",
      "+--------------------------------+\n",
      "\n",
      "10 rows\n",
      "ready to start consuming query after 1 ms, results consumed after another 840 ms\n"
     ]
    }
   ],
   "source": [
    "!{CONNECT} \"MATCH (u:User)-[*]->(l:Listing {{listing_id: '5293632'}}) RETURN u.user_id as ID, u.name as Name ORDER BY u.name LIMIT 10\""
   ]
  },
  {
   "cell_type": "code",
   "execution_count": 79,
   "id": "d5cacabf",
   "metadata": {},
   "outputs": [],
   "source": [
    "# Q4. Which users wrote a review for any listing which has the amenities \"Washer\" and \"Dryer\"? \n",
    "# Return the user’s id and name sorted alphabetically by name. Limit the results to 10."
   ]
  },
  {
   "cell_type": "code",
   "execution_count": 80,
   "id": "995e620f",
   "metadata": {},
   "outputs": [
    {
     "name": "stdout",
     "output_type": "stream",
     "text": [
      "+-------------------------------------+\n",
      "| ID         | Name                   |\n",
      "+-------------------------------------+\n",
      "| \"6524431\"  | \"'Ley\"                 |\n",
      "| \"8026901\"  | \"(We Are) Bonnie & Ky\" |\n",
      "| \"12694638\" | \"(email hidden)\"       |\n",
      "| \"5317970\"  | \"(email hidden)\"       |\n",
      "| \"11656027\" | \"(email hidden)\"       |\n",
      "| \"7483014\"  | \"(email hidden)\"       |\n",
      "| \"5164376\"  | \"(email hidden)\"       |\n",
      "| \"7802424\"  | \"(email hidden)\"       |\n",
      "| \"15315643\" | \"(email hidden)\"       |\n",
      "| \"13381969\" | \"(email hidden)\"       |\n",
      "+-------------------------------------+\n",
      "\n",
      "10 rows\n",
      "ready to start consuming query after 1 ms, results consumed after another 138 ms\n"
     ]
    }
   ],
   "source": [
    "!{CONNECT} \"MATCH (u:User)-[:WROTE]-(r:Review)-[:REVIEWS]-(l:Listing)-[:HAS]->(a:Amenity) WHERE a.name IN['Washer','Dryer']  RETURN DISTINCT u.user_id as ID, u.name as Name ORDER BY u.name LIMIT 10\""
   ]
  },
  {
   "cell_type": "code",
   "execution_count": 81,
   "id": "1d49cf0a",
   "metadata": {},
   "outputs": [],
   "source": [
    "# Q5. Which listings have 3 bedrooms and are located in the Clarksville neighborhood? Return the listing name, \n",
    "# property_type, price, and availability_365 sorted by price. Limit the results to 5."
   ]
  },
  {
   "cell_type": "code",
   "execution_count": 82,
   "id": "ccc5d8e1",
   "metadata": {},
   "outputs": [
    {
     "name": "stdout",
     "output_type": "stream",
     "text": [
      "+----------------------------------------------------------------------------------------+\n",
      "| l.name                                | l.property_type | l.price | l.availability_365 |\n",
      "+----------------------------------------------------------------------------------------+\n",
      "| \"private bedroom in shared apartment\" | \"Apartment\"     | 30.0    | 41                 |\n",
      "| \"Clarksville Studio w/ Sleeper Sofa!\" | \"Apartment\"     | 69.0    | 68                 |\n",
      "| \"Little digs\"                         | \"Apartment\"     | 79.0    | 324                |\n",
      "| \"Don Quixote Treehouse Apt - ACL!!\"   | \"Apartment\"     | 85.0    | 172                |\n",
      "| \"Cozy quiet apartment close to DT\"    | \"Apartment\"     | 95.0    | 357                |\n",
      "+----------------------------------------------------------------------------------------+\n",
      "\n",
      "5 rows\n",
      "ready to start consuming query after 1 ms, results consumed after another 1 ms\n"
     ]
    }
   ],
   "source": [
    "!{CONNECT} \"MATCH (l:Listing)-[:IN_NEIGHBORHOOD]->(n:Neighborhood {{name:'Clarksville'}}) WHERE l.accommodates = 3 RETURN l.name, l.property_type, l.price, l.availability_365 ORDER BY l.price LIMIT 5\""
   ]
  },
  {
   "cell_type": "code",
   "execution_count": 83,
   "id": "376f94bb",
   "metadata": {},
   "outputs": [],
   "source": [
    "# Q6. Which amenities are the most common? Return the name of the amenity and its frequency. \n",
    "# Sort the results by count in descending order. Limit the results to 5."
   ]
  },
  {
   "cell_type": "code",
   "execution_count": 84,
   "id": "3eb1da48",
   "metadata": {},
   "outputs": [
    {
     "name": "stdout",
     "output_type": "stream",
     "text": [
      "+---------------------------------------+\n",
      "| a.name                     | count(a) |\n",
      "+---------------------------------------+\n",
      "| \"Air Conditioning\"         | 5615     |\n",
      "| \"Wireless Internet\"        | 5479     |\n",
      "| \"Heating\"                  | 5440     |\n",
      "| \"Kitchen\"                  | 5400     |\n",
      "| \"Free Parking on Premises\" | 5123     |\n",
      "+---------------------------------------+\n",
      "\n",
      "5 rows\n",
      "ready to start consuming query after 1 ms, results consumed after another 88 ms\n"
     ]
    }
   ],
   "source": [
    "!{CONNECT} \"MATCH (l:Listing)-[:HAS]->(a:Amenity) RETURN a.name, count(a) ORDER BY count(a) DESC LIMIT 5\""
   ]
  },
  {
   "cell_type": "code",
   "execution_count": 85,
   "id": "a0656dbf",
   "metadata": {},
   "outputs": [],
   "source": [
    "# Q7. Which neighborhoods have the highest number of listings? Return the neighborhood’s name and zip code (neighborhood_id) \n",
    "# along with the number of listings they have sorted by the number of listings in descending order. Limit the results to 5."
   ]
  },
  {
   "cell_type": "code",
   "execution_count": 86,
   "id": "b7854cde",
   "metadata": {},
   "outputs": [
    {
     "name": "stdout",
     "output_type": "stream",
     "text": [
      "+-------------------------------------------------+\n",
      "| n.name           | n.neighborhood_id | count(l) |\n",
      "+-------------------------------------------------+\n",
      "| NULL             | \"78704\"           | 1601     |\n",
      "| NULL             | \"78702\"           | 797      |\n",
      "| \"Clarksville\"    | \"78703\"           | 419      |\n",
      "| \"East Riverside\" | \"78741\"           | 414      |\n",
      "| NULL             | \"78745\"           | 328      |\n",
      "+-------------------------------------------------+\n",
      "\n",
      "5 rows\n",
      "ready to start consuming query after 1 ms, results consumed after another 8 ms\n"
     ]
    }
   ],
   "source": [
    "!{CONNECT} \"MATCH (l:Listing)-[:IN_NEIGHBORHOOD]->(n:Neighborhood) RETURN n.name, n.neighborhood_id, count(l) ORDER BY count(l) DESC LIMIT 5\""
   ]
  },
  {
   "cell_type": "code",
   "execution_count": null,
   "id": "f48bb62f",
   "metadata": {},
   "outputs": [],
   "source": []
  }
 ],
 "metadata": {
  "environment": {
   "name": "common-cpu.m78",
   "type": "gcloud",
   "uri": "gcr.io/deeplearning-platform-release/base-cpu:m78"
  },
  "kernelspec": {
   "display_name": "Python 3",
   "language": "python",
   "name": "python3"
  },
  "language_info": {
   "codemirror_mode": {
    "name": "ipython",
    "version": 3
   },
   "file_extension": ".py",
   "mimetype": "text/x-python",
   "name": "python",
   "nbconvert_exporter": "python",
   "pygments_lexer": "ipython3",
   "version": "3.7.10"
  }
 },
 "nbformat": 4,
 "nbformat_minor": 5
}
