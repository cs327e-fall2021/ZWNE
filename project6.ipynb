{
 "cells": [
  {
   "cell_type": "code",
   "execution_count": 1,
   "id": "21040ff7",
   "metadata": {},
   "outputs": [],
   "source": [
    "# Q1. select count(*) from products;"
   ]
  },
  {
   "cell_type": "code",
   "execution_count": 2,
   "id": "d6a9be88",
   "metadata": {},
   "outputs": [
    {
     "name": "stdout",
     "output_type": "stream",
     "text": [
      "309371\n"
     ]
    }
   ],
   "source": [
    "!mongo open_food --quiet --eval 'db.products.count()'"
   ]
  },
  {
   "cell_type": "code",
   "execution_count": 3,
   "id": "bdad129b",
   "metadata": {},
   "outputs": [],
   "source": [
    "# Q2. select _id, product_name from products where categories = 'Snacks, Sweet snacks, Confectioneries, Candies, Chews';"
   ]
  },
  {
   "cell_type": "code",
   "execution_count": 4,
   "id": "f186ac03",
   "metadata": {},
   "outputs": [
    {
     "name": "stdout",
     "output_type": "stream",
     "text": [
      "{ \"_id\" : \"0071720007105\", \"product_name\" : \"Tootsie Roll\" }\n"
     ]
    }
   ],
   "source": [
    "!mongo open_food --quiet --eval 'db.products.find({categories: \"Snacks, Sweet snacks, Confectioneries, Candies, Chews\"}, {product_name: 1}).pretty()'"
   ]
  },
  {
   "cell_type": "code",
   "execution_count": 5,
   "id": "fc1bd93e",
   "metadata": {},
   "outputs": [],
   "source": [
    "# Q3. select _id, code, product_name from products where last_modified_t >= 1601856000;"
   ]
  },
  {
   "cell_type": "code",
   "execution_count": 6,
   "id": "e798480f",
   "metadata": {},
   "outputs": [
    {
     "name": "stdout",
     "output_type": "stream",
     "text": [
      "{\n",
      "\t\"_id\" : \"0852909003299\",\n",
      "\t\"product_name\" : \"Almondmilk\",\n",
      "\t\"code\" : \"0852909003299\"\n",
      "}\n",
      "{\n",
      "\t\"_id\" : \"0840423102055\",\n",
      "\t\"code\" : \"0840423102055\",\n",
      "\t\"product_name\" : \"Garlic wine pasta with chicken meatballs with whole wheat rotini, white beans, and greens, cooked in avocado oil, and topped with parmesan and mozzarella, garlic wine pasta with chicken meatballs\"\n",
      "}\n"
     ]
    }
   ],
   "source": [
    "!mongo open_food --quiet --eval 'db.products.find({last_modified_t: {$gte: 1601856000}}, {code: 1, product_name: 1}).pretty()'"
   ]
  },
  {
   "cell_type": "code",
   "execution_count": 7,
   "id": "84cb00b7",
   "metadata": {},
   "outputs": [],
   "source": [
    "# Q4. select count(*) from products where packaging = 'Plastic'; "
   ]
  },
  {
   "cell_type": "code",
   "execution_count": 8,
   "id": "6fae0789",
   "metadata": {},
   "outputs": [
    {
     "name": "stdout",
     "output_type": "stream",
     "text": [
      "115\n"
     ]
    }
   ],
   "source": [
    "!mongo open_food --quiet --eval 'db.products.count({packaging: \"Plastic\"})'"
   ]
  },
  {
   "cell_type": "code",
   "execution_count": 9,
   "id": "7e4a2b4e",
   "metadata": {},
   "outputs": [],
   "source": [
    "# Q5. select _id, code, creator, product_name, brands from products\n",
    "#  where manufacturing_places = 'Austin, TX' and stores = 'Whole Foods';"
   ]
  },
  {
   "cell_type": "code",
   "execution_count": 10,
   "id": "1f39edb6",
   "metadata": {},
   "outputs": [
    {
     "name": "stdout",
     "output_type": "stream",
     "text": [
      "{\n",
      "\t\"_id\" : \"0099482455859\",\n",
      "\t\"creator\" : \"usda-ndb-import\",\n",
      "\t\"brands\" : \"365 Everyday Value,Whole Foods Market  Inc.\",\n",
      "\t\"code\" : \"0099482455859\",\n",
      "\t\"product_name\" : \"Whole Wheat Bread\"\n",
      "}\n"
     ]
    }
   ],
   "source": [
    "!mongo open_food --quiet --eval 'db.products.find({manufacturing_places: \"Austin, TX\", stores: \"Whole Foods\"}, {code: 1, creator:  1, product_name: 1, brands: 1}).pretty()'"
   ]
  },
  {
   "cell_type": "code",
   "execution_count": 11,
   "id": "fee60292",
   "metadata": {},
   "outputs": [],
   "source": [
    "# Q6. select _id, creator, product_name, brands from products\n",
    "#  where brands = 'Trader Joes' and product_name is not null order by product_name;"
   ]
  },
  {
   "cell_type": "code",
   "execution_count": 12,
   "id": "73c32627",
   "metadata": {},
   "outputs": [
    {
     "name": "stdout",
     "output_type": "stream",
     "text": [
      "{\n",
      "\t\"_id\" : \"00547352\",\n",
      "\t\"product_name\" : \"Organic roasted vegetable pizza\",\n",
      "\t\"creator\" : \"djfkzz\",\n",
      "\t\"brands\" : \"Trader Joes\"\n",
      "}\n",
      "{\n",
      "\t\"_id\" : \"00556903\",\n",
      "\t\"brands\" : \"Trader Joes\",\n",
      "\t\"creator\" : \"djfkzz\",\n",
      "\t\"product_name\" : \"Thai Sweet Chili Veggie Burger\"\n",
      "}\n",
      "{\n",
      "\t\"_id\" : \"00508285\",\n",
      "\t\"product_name\" : \"Trader joes, sriracha sauce\",\n",
      "\t\"brands\" : \"Trader Joes\",\n",
      "\t\"creator\" : \"usda-ndb-import\"\n",
      "}\n"
     ]
    }
   ],
   "source": [
    "!mongo open_food --quiet --eval 'db.products.find({brands: \"Trader Joes\", product_name: {$ne: null}}, {creator: 1, product_name: 1, brands: 1}).sort({product_name: 1}).pretty()'"
   ]
  },
  {
   "cell_type": "code",
   "execution_count": 13,
   "id": "fb5dbe5b",
   "metadata": {},
   "outputs": [],
   "source": [
    "# Q7. select _id, product_name, brands from products\n",
    "#  where brands in (\"m&m's\", \"mars\", \"Mars\", \"oreo\", \"starburst\") order by product_name\n",
    "#  limit 5;"
   ]
  },
  {
   "cell_type": "code",
   "execution_count": 14,
   "id": "57ac5fdf",
   "metadata": {},
   "outputs": [
    {
     "name": "stdout",
     "output_type": "stream",
     "text": [
      "{\n",
      "\t\"_id\" : \"0040000265252\",\n",
      "\t\"brands\" : \"Mars\",\n",
      "\t\"product_name\" : \"Almond & dark chocolate\"\n",
      "}\n",
      "{ \"_id\" : \"0040000422068\", \"brands\" : \"mars\", \"product_name\" : \"BAR\" }\n",
      "{\n",
      "\t\"_id\" : \"0047677386518\",\n",
      "\t\"brands\" : \"m&m's\",\n",
      "\t\"product_name\" : \"M&m's, light ice cream, chocolate\"\n",
      "}\n",
      "{\n",
      "\t\"_id\" : \"0044000029524\",\n",
      "\t\"product_name\" : \"Nabisco oreo cookies double stuf 1x4.1 oz\",\n",
      "\t\"brands\" : \"oreo\"\n",
      "}\n",
      "{\n",
      "\t\"_id\" : \"04005108\",\n",
      "\t\"product_name\" : \"Real fruit juice!\",\n",
      "\t\"brands\" : \"starburst\"\n",
      "}\n"
     ]
    }
   ],
   "source": [
    "!mongo open_food --quiet --eval 'db.products.find({brands: {$in: [\"m&m\\u0027s\", \"mars\", \"Mars\", \"oreo\", \"starburst\"]}}, {product_name: 1, brands: 1}).sort({product_name: 1}).limit(5).pretty()'"
   ]
  },
  {
   "cell_type": "code",
   "execution_count": 15,
   "id": "7c380d7d",
   "metadata": {},
   "outputs": [],
   "source": [
    "# Insert a new document into the products collection. The document must have a minimum of 5 attributes with non-NULL values.\n",
    "# Read back the document you just created."
   ]
  },
  {
   "cell_type": "code",
   "execution_count": 16,
   "id": "9ba2edf0",
   "metadata": {},
   "outputs": [
    {
     "name": "stdout",
     "output_type": "stream",
     "text": [
      "{\n",
      "\t\"_id\" : \"0000000004530\",\n",
      "\t\"ingredients_text_with_allergens\" : \"Bananas, vegetable oil (coconut oil, corn oil and/or palm oil) sugar, natural banana flavor.\",\n",
      "\t\"data_quality_errors_tags\" : [ ],\n",
      "\t\"nutrition_data_prepared_per\" : \"100g\",\n",
      "\t\"nutrition_grades_tags\" : [\n",
      "\t\t\"not-applicable\"\n",
      "\t],\n",
      "\t\"minerals_tags\" : [ ],\n",
      "\t\"nova_group_debug\" : \" -- ingredients/en:sugar : 3 -- ingredients/en:flavouring : 4\",\n",
      "\t\"traces_tags\" : [ ],\n",
      "\t\"data_quality_bugs_tags\" : [ ],\n",
      "\t\"ingredients_text\" : \"Bananas, vegetable oil (coconut oil, corn oil and/or palm oil) sugar, natural banana flavor.\",\n",
      "\t\"ingredients_hierarchy\" : [\n",
      "\t\t\"en:banana\",\n",
      "\t\t\"en:fruit\",\n",
      "\t\t\"en:vegetable-oil\",\n",
      "\t\t\"en:oil-and-fat\",\n",
      "\t\t\"en:vegetable-oil-and-fat\",\n",
      "\t\t\"en:sugar\",\n",
      "\t\t\"en:natural-banana-flavouring\",\n",
      "\t\t\"en:flavouring\",\n",
      "\t\t\"en:natural-flavouring\",\n",
      "\t\t\"en:coconut-oil\",\n",
      "\t\t\"en:corn-oil\",\n",
      "\t\t\"en:palm-oil\",\n",
      "\t\t\"en:palm-oil-and-fat\"\n",
      "\t],\n",
      "\t\"vitamins_tags\" : [ ],\n",
      "\t\"vitamins_prev_tags\" : [ ],\n",
      "\t\"states\" : \"en:to-be-completed, en:nutrition-facts-completed, en:ingredients-completed, en:expiration-date-to-be-completed, en:packaging-code-to-be-completed, en:characteristics-to-be-completed, en:categories-to-be-completed, en:brands-to-be-completed, en:packaging-to-be-completed, en:quantity-to-be-completed, en:product-name-completed, en:photos-to-be-uploaded\",\n",
      "\t\"editors_tags\" : [\n",
      "\t\t\"usda-ndb-import\"\n",
      "\t],\n",
      "\t\"fruits-vegetables-nuts_100g_estimate\" : 0,\n",
      "\t\"allergens_tags\" : [ ],\n",
      "\t\"_keywords\" : [\n",
      "\t\t\"whole\",\n",
      "\t\t\"sweetened\",\n",
      "\t\t\"chip\",\n",
      "\t\t\"banana\"\n",
      "\t],\n",
      "\t\"amino_acids_prev_tags\" : [ ],\n",
      "\t\"codes_tags\" : [\n",
      "\t\t\"code-13\",\n",
      "\t\t\"invalid-ean\",\n",
      "\t\t\"0000000004xxx\",\n",
      "\t\t\"000000000xxxx\",\n",
      "\t\t\"00000000xxxxx\",\n",
      "\t\t\"0000000xxxxxx\",\n",
      "\t\t\"000000xxxxxxx\",\n",
      "\t\t\"00000xxxxxxxx\",\n",
      "\t\t\"0000xxxxxxxxx\",\n",
      "\t\t\"000xxxxxxxxxx\",\n",
      "\t\t\"00xxxxxxxxxxx\",\n",
      "\t\t\"0xxxxxxxxxxxx\"\n",
      "\t],\n",
      "\t\"nova_group_tags\" : [\n",
      "\t\t\"not-applicable\"\n",
      "\t],\n",
      "\t\"photographers_tags\" : [ ],\n",
      "\t\"last_editor\" : \"usda-ndb-import\",\n",
      "\t\"ciqual_food_name_tags\" : [\n",
      "\t\t\"unknown\"\n",
      "\t],\n",
      "\t\"data_sources\" : \"Database - USDA NDB, Databases\",\n",
      "\t\"minerals_prev_tags\" : [ ],\n",
      "\t\"last_edit_dates_tags\" : [\n",
      "\t\t\"2017-03-09\",\n",
      "\t\t\"2017-03\",\n",
      "\t\t\"2017\"\n",
      "\t],\n",
      "\t\"countries\" : \"United States\",\n",
      "\t\"id\" : \"0000000004530\",\n",
      "\t\"ingredients_analysis_tags\" : [\n",
      "\t\t\"en:palm-oil\",\n",
      "\t\t\"en:maybe-vegan\",\n",
      "\t\t\"en:maybe-vegetarian\"\n",
      "\t],\n",
      "\t\"pnns_groups_1\" : \"unknown\",\n",
      "\t\"countries_lc\" : \"en\",\n",
      "\t\"ingredients_n_tags\" : [\n",
      "\t\t\"7\",\n",
      "\t\t\"1-10\"\n",
      "\t],\n",
      "\t\"misc_tags\" : [\n",
      "\t\t\"en:nutriscore-not-computed\"\n",
      "\t],\n",
      "\t\"traces\" : \"\",\n",
      "\t\"pnns_groups_2\" : \"unknown\",\n",
      "\t\"serving_size\" : \"28 g (1 ONZ)\",\n",
      "\t\"additives_old_n\" : 0,\n",
      "\t\"sources\" : [\n",
      "\t\t{\n",
      "\t\t\t\"fields\" : [\n",
      "\t\t\t\t\"product_name_en\",\n",
      "\t\t\t\t\"countries\",\n",
      "\t\t\t\t\"serving_size\",\n",
      "\t\t\t\t\"ingredients_text_en\",\n",
      "\t\t\t\t\"nutrients.energy\",\n",
      "\t\t\t\t\"nutrients.proteins\",\n",
      "\t\t\t\t\"nutrients.fat\",\n",
      "\t\t\t\t\"nutrients.carbohydrates\",\n",
      "\t\t\t\t\"nutrients.fiber\",\n",
      "\t\t\t\t\"nutrients.sugars\",\n",
      "\t\t\t\t\"nutrients.calcium\",\n",
      "\t\t\t\t\"nutrients.iron\",\n",
      "\t\t\t\t\"nutrients.sodium\",\n",
      "\t\t\t\t\"nutrients.vitamin-c\",\n",
      "\t\t\t\t\"nutrients.vitamin-a\",\n",
      "\t\t\t\t\"nutrients.saturated-fat\",\n",
      "\t\t\t\t\"nutrients.trans-fat\",\n",
      "\t\t\t\t\"nutrients.cholesterol\"\n",
      "\t\t\t],\n",
      "\t\t\t\"images\" : [ ],\n",
      "\t\t\t\"url\" : \"https://api.nal.usda.gov/ndb/reports/?ndbno=45135999&type=f&format=json&api_key=DEMO_KEY\",\n",
      "\t\t\t\"import_t\" : 1489069957,\n",
      "\t\t\t\"id\" : \"usda-ndb\"\n",
      "\t\t}\n",
      "\t],\n",
      "\t\"data_quality_info_tags\" : [\n",
      "\t\t\"en:ingredients-percent-analysis-ok\"\n",
      "\t],\n",
      "\t\"product_name_en\" : \"Banana Chips Sweetened (Whole)\",\n",
      "\t\"amino_acids_tags\" : [ ],\n",
      "\t\"nova_group\" : 4,\n",
      "\t\"states_tags\" : [\n",
      "\t\t\"en:to-be-completed\",\n",
      "\t\t\"en:nutrition-facts-completed\",\n",
      "\t\t\"en:ingredients-completed\",\n",
      "\t\t\"en:expiration-date-to-be-completed\",\n",
      "\t\t\"en:packaging-code-to-be-completed\",\n",
      "\t\t\"en:characteristics-to-be-completed\",\n",
      "\t\t\"en:categories-to-be-completed\",\n",
      "\t\t\"en:brands-to-be-completed\",\n",
      "\t\t\"en:packaging-to-be-completed\",\n",
      "\t\t\"en:quantity-to-be-completed\",\n",
      "\t\t\"en:product-name-completed\",\n",
      "\t\t\"en:photos-to-be-uploaded\"\n",
      "\t],\n",
      "\t\"interface_version_created\" : \"import_us_ndb.pl - version 2017/03/04\",\n",
      "\t\"last_modified_by\" : \"usda-ndb-import\",\n",
      "\t\"traces_hierarchy\" : [ ],\n",
      "\t\"languages_tags\" : [\n",
      "\t\t\"en:english\",\n",
      "\t\t\"en:1\"\n",
      "\t],\n",
      "\t\"last_modified_t\" : 1489069957,\n",
      "\t\"categories_properties_tags\" : [\n",
      "\t\t\"all-products\",\n",
      "\t\t\"categories-unknown\",\n",
      "\t\t\"agribalyse-food-code-unknown\",\n",
      "\t\t\"agribalyse-proxy-food-code-unknown\",\n",
      "\t\t\"ciqual-food-code-unknown\",\n",
      "\t\t\"agribalyse-unknown\"\n",
      "\t],\n",
      "\t\"nucleotides_prev_tags\" : [ ],\n",
      "\t\"ingredients_percent_analysis\" : 1,\n",
      "\t\"correctors_tags\" : [ ],\n",
      "\t\"ingredients_text_with_allergens_en\" : \"Bananas, vegetable oil (coconut oil, corn oil and/or palm oil) sugar, natural banana flavor.\",\n",
      "\t\"traces_from_ingredients\" : \"\",\n",
      "\t\"ingredients_tags\" : [\n",
      "\t\t\"en:banana\",\n",
      "\t\t\"en:fruit\",\n",
      "\t\t\"en:vegetable-oil\",\n",
      "\t\t\"en:oil-and-fat\",\n",
      "\t\t\"en:vegetable-oil-and-fat\",\n",
      "\t\t\"en:sugar\",\n",
      "\t\t\"en:natural-banana-flavouring\",\n",
      "\t\t\"en:flavouring\",\n",
      "\t\t\"en:natural-flavouring\",\n",
      "\t\t\"en:coconut-oil\",\n",
      "\t\t\"en:corn-oil\",\n",
      "\t\t\"en:palm-oil\",\n",
      "\t\t\"en:palm-oil-and-fat\"\n",
      "\t],\n",
      "\t\"data_sources_tags\" : [\n",
      "\t\t\"database-usda-ndb\",\n",
      "\t\t\"databases\"\n",
      "\t],\n",
      "\t\"product_name\" : \"Banana Chips Sweetened (Whole)\",\n",
      "\t\"nutrient_levels_tags\" : [ ],\n",
      "\t\"checkers_tags\" : [ ],\n",
      "\t\"languages_hierarchy\" : [\n",
      "\t\t\"en:english\"\n",
      "\t],\n",
      "\t\"nutrition_data_per\" : \"100g\",\n",
      "\t\"known_ingredients_n\" : 13,\n",
      "\t\"brands_tags\" : [ ],\n",
      "\t\"countries_debug_tags\" : [ ],\n",
      "\t\"unknown_nutrients_tags\" : [ ],\n",
      "\t\"serving_quantity\" : 28,\n",
      "\t\"ingredients_debug\" : [\n",
      "\t\t\"Bananas\",\n",
      "\t\t\",\",\n",
      "\t\tnull,\n",
      "\t\tnull,\n",
      "\t\tnull,\n",
      "\t\t\" vegetable oil \",\n",
      "\t\t\"(\",\n",
      "\t\t\"(\",\n",
      "\t\tnull,\n",
      "\t\tnull,\n",
      "\t\t\"coconut oil\",\n",
      "\t\t\",\",\n",
      "\t\tnull,\n",
      "\t\tnull,\n",
      "\t\tnull,\n",
      "\t\t\" corn oil and\",\n",
      "\t\t\"/\",\n",
      "\t\tnull,\n",
      "\t\tnull,\n",
      "\t\t\"/\",\n",
      "\t\t\"or palm oil) sugar\",\n",
      "\t\t\",\",\n",
      "\t\tnull,\n",
      "\t\tnull,\n",
      "\t\tnull,\n",
      "\t\t\" natural banana flavor.\"\n",
      "\t],\n",
      "\t\"ingredients_n\" : 7,\n",
      "\t\"ingredients_original_tags\" : [\n",
      "\t\t\"en:banana\",\n",
      "\t\t\"en:vegetable-oil\",\n",
      "\t\t\"en:sugar\",\n",
      "\t\t\"en:natural-banana-flavouring\",\n",
      "\t\t\"en:coconut-oil\",\n",
      "\t\t\"en:corn-oil\",\n",
      "\t\t\"en:palm-oil\"\n",
      "\t],\n",
      "\t\"languages\" : {\n",
      "\t\t\"en:english\" : 2\n",
      "\t},\n",
      "\t\"additives_old_tags\" : [ ],\n",
      "\t\"ingredients_that_may_be_from_palm_oil_tags\" : [ ],\n",
      "\t\"creator\" : \"usda-ndb-import\",\n",
      "\t\"pnns_groups_2_tags\" : [\n",
      "\t\t\"unknown\",\n",
      "\t\t\"missing-category\"\n",
      "\t],\n",
      "\t\"allergens\" : \"\",\n",
      "\t\"popularity_key\" : 0,\n",
      "\t\"additives_original_tags\" : [ ],\n",
      "\t\"nutrition_data\" : \"on\",\n",
      "\t\"nova_groups_tags\" : [\n",
      "\t\t\"en:4-ultra-processed-food-and-drink-products\"\n",
      "\t],\n",
      "\t\"complete\" : 0,\n",
      "\t\"additives_n\" : 0,\n",
      "\t\"nutrition_score_debug\" : \"no score when the product does not have a category\",\n",
      "\t\"languages_codes\" : {\n",
      "\t\t\"en\" : 2\n",
      "\t},\n",
      "\t\"code\" : \"0000000004530\",\n",
      "\t\"lc\" : \"en\",\n",
      "\t\"countries_hierarchy\" : [\n",
      "\t\t\"en:united-states\"\n",
      "\t],\n",
      "\t\"nutrient_levels\" : {\n",
      "\t\t\n",
      "\t},\n",
      "\t\"allergens_from_user\" : \"(en) \",\n",
      "\t\"ingredients_from_palm_oil_n\" : 0,\n",
      "\t\"completeness\" : 0.30000000000000004,\n",
      "\t\"unknown_ingredients_n\" : 0,\n",
      "\t\"allergens_from_ingredients\" : \"\",\n",
      "\t\"created_t\" : 1489069957,\n",
      "\t\"additives_debug_tags\" : [ ],\n",
      "\t\"additives_prev_original_tags\" : [ ],\n",
      "\t\"ingredients_text_debug\" : \"Bananas, vegetable oil (coconut oil, corn oil and/or palm oil) sugar, natural banana flavor.\",\n",
      "\t\"update_key\" : \"agribalyse13\",\n",
      "\t\"countries_tags\" : [\n",
      "\t\t\"en:united-states\"\n",
      "\t],\n",
      "\t\"ingredients_from_or_that_may_be_from_palm_oil_n\" : 0,\n",
      "\t\"other_nutritional_substances_tags\" : [ ],\n",
      "\t\"ingredients_that_may_be_from_palm_oil_n\" : 0,\n",
      "\t\"data_quality_tags\" : [\n",
      "\t\t\"en:ingredients-percent-analysis-ok\",\n",
      "\t\t\"en:serving-quantity-defined-but-quantity-undefined\"\n",
      "\t],\n",
      "\t\"nucleotides_tags\" : [ ],\n",
      "\t\"ingredients_text_en\" : \"Bananas, vegetable oil (coconut oil, corn oil and/or palm oil) sugar, natural banana flavor.\",\n",
      "\t\"category_properties\" : {\n",
      "\t\t\n",
      "\t},\n",
      "\t\"states_hierarchy\" : [\n",
      "\t\t\"en:to-be-completed\",\n",
      "\t\t\"en:nutrition-facts-completed\",\n",
      "\t\t\"en:ingredients-completed\",\n",
      "\t\t\"en:expiration-date-to-be-completed\",\n",
      "\t\t\"en:packaging-code-to-be-completed\",\n",
      "\t\t\"en:characteristics-to-be-completed\",\n",
      "\t\t\"en:categories-to-be-completed\",\n",
      "\t\t\"en:brands-to-be-completed\",\n",
      "\t\t\"en:packaging-to-be-completed\",\n",
      "\t\t\"en:quantity-to-be-completed\",\n",
      "\t\t\"en:product-name-completed\",\n",
      "\t\t\"en:photos-to-be-uploaded\"\n",
      "\t],\n",
      "\t\"categories_properties\" : {\n",
      "\t\t\n",
      "\t},\n",
      "\t\"ingredients_ids_debug\" : [\n",
      "\t\t\"bananas\",\n",
      "\t\t\"vegetable-oil\",\n",
      "\t\t\"coconut-oil\",\n",
      "\t\t\"corn-oil-and\",\n",
      "\t\t\"or-palm-oil-sugar\",\n",
      "\t\t\"natural-banana-flavor\"\n",
      "\t],\n",
      "\t\"informers_tags\" : [\n",
      "\t\t\"usda-ndb-import\"\n",
      "\t],\n",
      "\t\"ingredients\" : [\n",
      "\t\t{\n",
      "\t\t\t\"id\" : \"en:banana\",\n",
      "\t\t\t\"percent_min\" : 25,\n",
      "\t\t\t\"vegan\" : \"yes\",\n",
      "\t\t\t\"rank\" : 1,\n",
      "\t\t\t\"vegetarian\" : \"yes\",\n",
      "\t\t\t\"text\" : \"Bananas\",\n",
      "\t\t\t\"percent_max\" : 100\n",
      "\t\t},\n",
      "\t\t{\n",
      "\t\t\t\"percent_max\" : 50,\n",
      "\t\t\t\"ingredients\" : [\n",
      "\t\t\t\t{\n",
      "\t\t\t\t\t\"text\" : \"coconut oil\",\n",
      "\t\t\t\t\t\"percent_min\" : 0,\n",
      "\t\t\t\t\t\"id\" : \"en:coconut-oil\",\n",
      "\t\t\t\t\t\"percent_max\" : 50\n",
      "\t\t\t\t},\n",
      "\t\t\t\t{\n",
      "\t\t\t\t\t\"percent_max\" : 25,\n",
      "\t\t\t\t\t\"id\" : \"en:corn-oil\",\n",
      "\t\t\t\t\t\"percent_min\" : 0,\n",
      "\t\t\t\t\t\"text\" : \"corn oil\"\n",
      "\t\t\t\t},\n",
      "\t\t\t\t{\n",
      "\t\t\t\t\t\"percent_max\" : 16.666666666666668,\n",
      "\t\t\t\t\t\"percent_min\" : 0,\n",
      "\t\t\t\t\t\"text\" : \"palm oil\",\n",
      "\t\t\t\t\t\"id\" : \"en:palm-oil\"\n",
      "\t\t\t\t}\n",
      "\t\t\t],\n",
      "\t\t\t\"vegan\" : \"yes\",\n",
      "\t\t\t\"percent_min\" : 0,\n",
      "\t\t\t\"id\" : \"en:vegetable-oil\",\n",
      "\t\t\t\"from_palm_oil\" : \"maybe\",\n",
      "\t\t\t\"has_sub_ingredients\" : \"yes\",\n",
      "\t\t\t\"rank\" : 2,\n",
      "\t\t\t\"vegetarian\" : \"yes\",\n",
      "\t\t\t\"text\" : \"vegetable oil\"\n",
      "\t\t},\n",
      "\t\t{\n",
      "\t\t\t\"vegan\" : \"yes\",\n",
      "\t\t\t\"percent_min\" : 0,\n",
      "\t\t\t\"vegetarian\" : \"yes\",\n",
      "\t\t\t\"rank\" : 3,\n",
      "\t\t\t\"text\" : \"sugar\",\n",
      "\t\t\t\"id\" : \"en:sugar\",\n",
      "\t\t\t\"percent_max\" : 33.333333333333336\n",
      "\t\t},\n",
      "\t\t{\n",
      "\t\t\t\"percent_max\" : 25,\n",
      "\t\t\t\"rank\" : 4,\n",
      "\t\t\t\"percent_min\" : 0,\n",
      "\t\t\t\"vegetarian\" : \"maybe\",\n",
      "\t\t\t\"vegan\" : \"maybe\",\n",
      "\t\t\t\"text\" : \"natural banana flavor\",\n",
      "\t\t\t\"id\" : \"en:natural-banana-flavouring\"\n",
      "\t\t},\n",
      "\t\t{\n",
      "\t\t\t\"vegan\" : \"yes\",\n",
      "\t\t\t\"percent_min\" : 0,\n",
      "\t\t\t\"vegetarian\" : \"yes\",\n",
      "\t\t\t\"text\" : \"coconut oil\",\n",
      "\t\t\t\"id\" : \"en:coconut-oil\",\n",
      "\t\t\t\"from_palm_oil\" : \"no\",\n",
      "\t\t\t\"percent_max\" : 50\n",
      "\t\t},\n",
      "\t\t{\n",
      "\t\t\t\"vegetarian\" : \"yes\",\n",
      "\t\t\t\"percent_min\" : 0,\n",
      "\t\t\t\"vegan\" : \"yes\",\n",
      "\t\t\t\"text\" : \"corn oil\",\n",
      "\t\t\t\"id\" : \"en:corn-oil\",\n",
      "\t\t\t\"from_palm_oil\" : \"no\",\n",
      "\t\t\t\"percent_max\" : 25\n",
      "\t\t},\n",
      "\t\t{\n",
      "\t\t\t\"percent_max\" : 16.666666666666668,\n",
      "\t\t\t\"from_palm_oil\" : \"yes\",\n",
      "\t\t\t\"id\" : \"en:palm-oil\",\n",
      "\t\t\t\"text\" : \"palm oil\",\n",
      "\t\t\t\"percent_min\" : 0,\n",
      "\t\t\t\"vegan\" : \"yes\",\n",
      "\t\t\t\"vegetarian\" : \"yes\"\n",
      "\t\t}\n",
      "\t],\n",
      "\t\"ingredients_from_palm_oil_tags\" : [ ],\n",
      "\t\"allergens_hierarchy\" : [ ],\n",
      "\t\"lang\" : \"en\",\n",
      "\t\"additives_tags\" : [ ],\n",
      "\t\"entry_dates_tags\" : [\n",
      "\t\t\"2017-03-09\",\n",
      "\t\t\"2017-03\",\n",
      "\t\t\"2017\"\n",
      "\t],\n",
      "\t\"pnns_groups_1_tags\" : [\n",
      "\t\t\"unknown\",\n",
      "\t\t\"missing-category\"\n",
      "\t],\n",
      "\t\"nova_groups\" : \"4\",\n",
      "\t\"nutriments\" : {\n",
      "\t\t\"trans-fat_unit\" : \"g\",\n",
      "\t\t\"calcium_serving\" : 0,\n",
      "\t\t\"energy_value\" : 536,\n",
      "\t\t\"energy-kcal_value\" : 536,\n",
      "\t\t\"calcium_unit\" : \"mg\",\n",
      "\t\t\"energy-kcal_100g\" : 536,\n",
      "\t\t\"proteins_unit\" : \"g\",\n",
      "\t\t\"proteins\" : 3.57,\n",
      "\t\t\"sodium_unit\" : \"g\",\n",
      "\t\t\"energy-kcal_serving\" : 150,\n",
      "\t\t\"sugars_serving\" : 4,\n",
      "\t\t\"vitamin-c\" : 0.0214,\n",
      "\t\t\"trans-fat_value\" : 0,\n",
      "\t\t\"fat_unit\" : \"g\",\n",
      "\t\t\"fat_value\" : 28.57,\n",
      "\t\t\"sugars\" : 14.29,\n",
      "\t\t\"vitamin-a_100g\" : 0,\n",
      "\t\t\"energy_100g\" : 2243,\n",
      "\t\t\"sodium\" : 0,\n",
      "\t\t\"saturated-fat_serving\" : 8,\n",
      "\t\t\"vitamin-c_unit\" : \"mg\",\n",
      "\t\t\"calcium_100g\" : 0,\n",
      "\t\t\"energy-kcal_unit\" : \"kcal\",\n",
      "\t\t\"iron_unit\" : \"mg\",\n",
      "\t\t\"fiber_100g\" : 3.6,\n",
      "\t\t\"sodium_serving\" : 0,\n",
      "\t\t\"vitamin-c_100g\" : 0.0214,\n",
      "\t\t\"proteins_serving\" : 1,\n",
      "\t\t\"vitamin-a_unit\" : \"IU\",\n",
      "\t\t\"cholesterol_serving\" : 0.00504,\n",
      "\t\t\"cholesterol_100g\" : 0.018,\n",
      "\t\t\"salt\" : 0,\n",
      "\t\t\"fiber_unit\" : \"g\",\n",
      "\t\t\"vitamin-c_serving\" : 0.0059900000000000005,\n",
      "\t\t\"vitamin-a_serving\" : 0,\n",
      "\t\t\"vitamin-a\" : 0,\n",
      "\t\t\"fat\" : 28.57,\n",
      "\t\t\"fat_100g\" : 28.57,\n",
      "\t\t\"trans-fat\" : 0,\n",
      "\t\t\"carbohydrates_100g\" : 64.29,\n",
      "\t\t\"trans-fat_100g\" : 0,\n",
      "\t\t\"iron_serving\" : 0.000361,\n",
      "\t\t\"proteins_100g\" : 3.57,\n",
      "\t\t\"salt_serving\" : 0,\n",
      "\t\t\"fiber_serving\" : 1.01,\n",
      "\t\t\"iron\" : 0.0012900000000000001,\n",
      "\t\t\"carbohydrates_unit\" : \"g\",\n",
      "\t\t\"sodium_100g\" : 0,\n",
      "\t\t\"energy-kcal\" : 536,\n",
      "\t\t\"fiber_value\" : 3.6,\n",
      "\t\t\"fruits-vegetables-nuts-estimate-from-ingredients_100g\" : 25,\n",
      "\t\t\"vitamin-c_value\" : 21.4,\n",
      "\t\t\"saturated-fat_value\" : 28.57,\n",
      "\t\t\"saturated-fat\" : 28.57,\n",
      "\t\t\"proteins_value\" : 3.57,\n",
      "\t\t\"carbohydrates\" : 64.29,\n",
      "\t\t\"sugars_value\" : 14.29,\n",
      "\t\t\"trans-fat_serving\" : 0,\n",
      "\t\t\"iron_value\" : 1.29,\n",
      "\t\t\"sugars_100g\" : 14.29,\n",
      "\t\t\"sugars_unit\" : \"g\",\n",
      "\t\t\"salt_unit\" : \"g\",\n",
      "\t\t\"salt_value\" : 0,\n",
      "\t\t\"saturated-fat_100g\" : 28.57,\n",
      "\t\t\"iron_100g\" : 0.0012900000000000001,\n",
      "\t\t\"nova-group_100g\" : 4,\n",
      "\t\t\"calcium\" : 0,\n",
      "\t\t\"saturated-fat_unit\" : \"g\",\n",
      "\t\t\"fat_serving\" : 8,\n",
      "\t\t\"energy_serving\" : 628,\n",
      "\t\t\"energy_unit\" : \"kcal\",\n",
      "\t\t\"cholesterol_value\" : 18,\n",
      "\t\t\"cholesterol_unit\" : \"mg\",\n",
      "\t\t\"calcium_value\" : 0,\n",
      "\t\t\"sodium_value\" : 0,\n",
      "\t\t\"salt_100g\" : 0,\n",
      "\t\t\"nova-group_serving\" : 4,\n",
      "\t\t\"energy\" : 2243,\n",
      "\t\t\"vitamin-a_value\" : 0,\n",
      "\t\t\"nova-group\" : 4,\n",
      "\t\t\"carbohydrates_value\" : 64.29,\n",
      "\t\t\"cholesterol\" : 0.018,\n",
      "\t\t\"fiber\" : 3.6,\n",
      "\t\t\"carbohydrates_serving\" : 18\n",
      "\t},\n",
      "\t\"data_quality_warnings_tags\" : [\n",
      "\t\t\"en:serving-quantity-defined-but-quantity-undefined\"\n",
      "\t],\n",
      "\t\"rev\" : 1,\n",
      "\t\"sortkey\" : 1489069957,\n",
      "\t\"traces_from_user\" : \"(en) \"\n",
      "}\n"
     ]
    }
   ],
   "source": [
    "!mongo open_food --quiet --eval 'db.products.findOne()'"
   ]
  },
  {
   "cell_type": "code",
   "execution_count": 17,
   "id": "d54ea860",
   "metadata": {},
   "outputs": [],
   "source": [
    "# make sure product isn't already in list\n",
    "!mongo open_food --quiet --eval 'db.products.find({product_name: {$in: [\"Gobstoppers\", \"gobstoppers\", \"Gobstopper\", \"gobstopper\", \"Everlasting Gobstopper\"]}}, {product_name: 1}).pretty()'"
   ]
  },
  {
   "cell_type": "code",
   "execution_count": 18,
   "id": "09c46ff7",
   "metadata": {},
   "outputs": [],
   "source": [
    "Gobstopper = '{product_name: \"Everlasting Gobstopper\", brands: \"Wonka\", manufacturing_places: \"Itasca, IL\", countries: \"United States\", ingredients_text: \"Dextrose, Maltodextrin, Corn Syrup, Malic Acid, Calcium Stearate, Carnauba Wax, Natural Flavors, Artifical Colors\"}'"
   ]
  },
  {
   "cell_type": "code",
   "execution_count": 19,
   "id": "c9713230",
   "metadata": {},
   "outputs": [
    {
     "name": "stdout",
     "output_type": "stream",
     "text": [
      "WriteResult({ \"nInserted\" : 1 })\n"
     ]
    }
   ],
   "source": [
    "!mongo open_food --quiet --eval 'db.products.insert({Gobstopper})'"
   ]
  },
  {
   "cell_type": "code",
   "execution_count": 20,
   "id": "11d232f0",
   "metadata": {},
   "outputs": [
    {
     "name": "stdout",
     "output_type": "stream",
     "text": [
      "{\n",
      "\t\"_id\" : ObjectId(\"617b03da7560b351d799c588\"),\n",
      "\t\"product_name\" : \"Everlasting Gobstopper\",\n",
      "\t\"brands\" : \"Wonka\",\n",
      "\t\"manufacturing_places\" : \"Itasca, IL\",\n",
      "\t\"countries\" : \"United States\",\n",
      "\t\"ingredients_text\" : \"Dextrose, Maltodextrin, Corn Syrup, Malic Acid, Calcium Stearate, Carnauba Wax, Natural Flavors, Artifical Colors\"\n",
      "}\n"
     ]
    }
   ],
   "source": [
    "!mongo open_food --quiet --eval 'db.products.find({product_name: \"Everlasting Gobstopper\"}).pretty()'"
   ]
  },
  {
   "cell_type": "code",
   "execution_count": 21,
   "id": "1cab496b",
   "metadata": {},
   "outputs": [],
   "source": [
    "# Update the document you created in the previous step and then read it back."
   ]
  },
  {
   "cell_type": "code",
   "execution_count": 22,
   "id": "31032bd1",
   "metadata": {},
   "outputs": [
    {
     "name": "stdout",
     "output_type": "stream",
     "text": [
      "WriteResult({ \"nMatched\" : 1, \"nUpserted\" : 0, \"nModified\" : 1 })\n"
     ]
    }
   ],
   "source": [
    "!mongo open_food --quiet --eval 'db.products.update({product_name: \"Everlasting Gobstopper\"}, {$set: {serving_size: \"9 pcs\"}})'"
   ]
  },
  {
   "cell_type": "code",
   "execution_count": 23,
   "id": "177bb94c",
   "metadata": {},
   "outputs": [
    {
     "name": "stdout",
     "output_type": "stream",
     "text": [
      "{\n",
      "\t\"_id\" : ObjectId(\"617b03da7560b351d799c588\"),\n",
      "\t\"product_name\" : \"Everlasting Gobstopper\",\n",
      "\t\"brands\" : \"Wonka\",\n",
      "\t\"manufacturing_places\" : \"Itasca, IL\",\n",
      "\t\"countries\" : \"United States\",\n",
      "\t\"ingredients_text\" : \"Dextrose, Maltodextrin, Corn Syrup, Malic Acid, Calcium Stearate, Carnauba Wax, Natural Flavors, Artifical Colors\",\n",
      "\t\"serving_size\" : \"9 pcs\"\n",
      "}\n"
     ]
    }
   ],
   "source": [
    "!mongo open_food --quiet --eval 'db.products.find({product_name: \"Everlasting Gobstopper\"}).pretty()'"
   ]
  },
  {
   "cell_type": "code",
   "execution_count": 24,
   "id": "9b15aded",
   "metadata": {},
   "outputs": [],
   "source": [
    "# Delete the document you updated in the previous step and then query the collection to verify that it’s been deleted."
   ]
  },
  {
   "cell_type": "code",
   "execution_count": 25,
   "id": "fe8b0235",
   "metadata": {},
   "outputs": [
    {
     "name": "stdout",
     "output_type": "stream",
     "text": [
      "WriteResult({ \"nRemoved\" : 1 })\n"
     ]
    }
   ],
   "source": [
    "!mongo open_food --quiet --eval 'db.products.remove({product_name: \"Everlasting Gobstopper\"})'"
   ]
  },
  {
   "cell_type": "code",
   "execution_count": 27,
   "id": "51610d6a",
   "metadata": {},
   "outputs": [],
   "source": [
    "!mongo open_food --quiet --eval 'db.products.find({product_name: \"Everlasting Gobstopper\"}).pretty()'"
   ]
  },
  {
   "cell_type": "code",
   "execution_count": null,
   "id": "d68f521b",
   "metadata": {},
   "outputs": [],
   "source": []
  }
 ],
 "metadata": {
  "environment": {
   "name": "common-cpu.m78",
   "type": "gcloud",
   "uri": "gcr.io/deeplearning-platform-release/base-cpu:m78"
  },
  "kernelspec": {
   "display_name": "Python 3",
   "language": "python",
   "name": "python3"
  },
  "language_info": {
   "codemirror_mode": {
    "name": "ipython",
    "version": 3
   },
   "file_extension": ".py",
   "mimetype": "text/x-python",
   "name": "python",
   "nbconvert_exporter": "python",
   "pygments_lexer": "ipython3",
   "version": "3.7.10"
  }
 },
 "nbformat": 4,
 "nbformat_minor": 5
}
